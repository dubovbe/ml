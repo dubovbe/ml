{
 "cells": [
  {
   "cell_type": "code",
   "execution_count": 1,
   "id": "d1179647",
   "metadata": {},
   "outputs": [],
   "source": [
    "import scipy.stats as st\n",
    "import statsmodels.api as sm\n",
    "import numpy as np\n",
    "\n",
    "import pandas as pd\n",
    "\n",
    "from matplotlib import pyplot as plt\n",
    "import seaborn as sns\n",
    "\n",
    "from sklearn.model_selection import train_test_split, GridSearchCV\n",
    "from sklearn.preprocessing import StandardScaler\n",
    "\n",
    "from math import sqrt"
   ]
  },
  {
   "cell_type": "markdown",
   "id": "7a473e2a",
   "metadata": {},
   "source": [
    "# Exploring Data Set"
   ]
  },
  {
   "cell_type": "code",
   "execution_count": 2,
   "id": "382dfc27",
   "metadata": {},
   "outputs": [],
   "source": [
    "df = pd.read_csv('Churn_Modelling.csv')"
   ]
  },
  {
   "cell_type": "code",
   "execution_count": 3,
   "id": "67b38d5d",
   "metadata": {
    "scrolled": true
   },
   "outputs": [
    {
     "data": {
      "text/html": [
       "<div>\n",
       "<style scoped>\n",
       "    .dataframe tbody tr th:only-of-type {\n",
       "        vertical-align: middle;\n",
       "    }\n",
       "\n",
       "    .dataframe tbody tr th {\n",
       "        vertical-align: top;\n",
       "    }\n",
       "\n",
       "    .dataframe thead th {\n",
       "        text-align: right;\n",
       "    }\n",
       "</style>\n",
       "<table border=\"1\" class=\"dataframe\">\n",
       "  <thead>\n",
       "    <tr style=\"text-align: right;\">\n",
       "      <th></th>\n",
       "      <th>RowNumber</th>\n",
       "      <th>CustomerId</th>\n",
       "      <th>Surname</th>\n",
       "      <th>CreditScore</th>\n",
       "      <th>Geography</th>\n",
       "      <th>Gender</th>\n",
       "      <th>Age</th>\n",
       "      <th>Tenure</th>\n",
       "      <th>Balance</th>\n",
       "      <th>NumOfProducts</th>\n",
       "      <th>HasCrCard</th>\n",
       "      <th>IsActiveMember</th>\n",
       "      <th>EstimatedSalary</th>\n",
       "      <th>Exited</th>\n",
       "    </tr>\n",
       "  </thead>\n",
       "  <tbody>\n",
       "    <tr>\n",
       "      <th>0</th>\n",
       "      <td>1</td>\n",
       "      <td>15634602</td>\n",
       "      <td>Hargrave</td>\n",
       "      <td>619</td>\n",
       "      <td>France</td>\n",
       "      <td>Female</td>\n",
       "      <td>42</td>\n",
       "      <td>2</td>\n",
       "      <td>0.00</td>\n",
       "      <td>1</td>\n",
       "      <td>1</td>\n",
       "      <td>1</td>\n",
       "      <td>101348.88</td>\n",
       "      <td>1</td>\n",
       "    </tr>\n",
       "    <tr>\n",
       "      <th>1</th>\n",
       "      <td>2</td>\n",
       "      <td>15647311</td>\n",
       "      <td>Hill</td>\n",
       "      <td>608</td>\n",
       "      <td>Spain</td>\n",
       "      <td>Female</td>\n",
       "      <td>41</td>\n",
       "      <td>1</td>\n",
       "      <td>83807.86</td>\n",
       "      <td>1</td>\n",
       "      <td>0</td>\n",
       "      <td>1</td>\n",
       "      <td>112542.58</td>\n",
       "      <td>0</td>\n",
       "    </tr>\n",
       "    <tr>\n",
       "      <th>2</th>\n",
       "      <td>3</td>\n",
       "      <td>15619304</td>\n",
       "      <td>Onio</td>\n",
       "      <td>502</td>\n",
       "      <td>France</td>\n",
       "      <td>Female</td>\n",
       "      <td>42</td>\n",
       "      <td>8</td>\n",
       "      <td>159660.80</td>\n",
       "      <td>3</td>\n",
       "      <td>1</td>\n",
       "      <td>0</td>\n",
       "      <td>113931.57</td>\n",
       "      <td>1</td>\n",
       "    </tr>\n",
       "    <tr>\n",
       "      <th>3</th>\n",
       "      <td>4</td>\n",
       "      <td>15701354</td>\n",
       "      <td>Boni</td>\n",
       "      <td>699</td>\n",
       "      <td>France</td>\n",
       "      <td>Female</td>\n",
       "      <td>39</td>\n",
       "      <td>1</td>\n",
       "      <td>0.00</td>\n",
       "      <td>2</td>\n",
       "      <td>0</td>\n",
       "      <td>0</td>\n",
       "      <td>93826.63</td>\n",
       "      <td>0</td>\n",
       "    </tr>\n",
       "    <tr>\n",
       "      <th>4</th>\n",
       "      <td>5</td>\n",
       "      <td>15737888</td>\n",
       "      <td>Mitchell</td>\n",
       "      <td>850</td>\n",
       "      <td>Spain</td>\n",
       "      <td>Female</td>\n",
       "      <td>43</td>\n",
       "      <td>2</td>\n",
       "      <td>125510.82</td>\n",
       "      <td>1</td>\n",
       "      <td>1</td>\n",
       "      <td>1</td>\n",
       "      <td>79084.10</td>\n",
       "      <td>0</td>\n",
       "    </tr>\n",
       "  </tbody>\n",
       "</table>\n",
       "</div>"
      ],
      "text/plain": [
       "   RowNumber  CustomerId   Surname  CreditScore Geography  Gender  Age  \\\n",
       "0          1    15634602  Hargrave          619    France  Female   42   \n",
       "1          2    15647311      Hill          608     Spain  Female   41   \n",
       "2          3    15619304      Onio          502    France  Female   42   \n",
       "3          4    15701354      Boni          699    France  Female   39   \n",
       "4          5    15737888  Mitchell          850     Spain  Female   43   \n",
       "\n",
       "   Tenure    Balance  NumOfProducts  HasCrCard  IsActiveMember  \\\n",
       "0       2       0.00              1          1               1   \n",
       "1       1   83807.86              1          0               1   \n",
       "2       8  159660.80              3          1               0   \n",
       "3       1       0.00              2          0               0   \n",
       "4       2  125510.82              1          1               1   \n",
       "\n",
       "   EstimatedSalary  Exited  \n",
       "0        101348.88       1  \n",
       "1        112542.58       0  \n",
       "2        113931.57       1  \n",
       "3         93826.63       0  \n",
       "4         79084.10       0  "
      ]
     },
     "execution_count": 3,
     "metadata": {},
     "output_type": "execute_result"
    }
   ],
   "source": [
    "df.head()"
   ]
  },
  {
   "cell_type": "code",
   "execution_count": 4,
   "id": "ed7f5c17",
   "metadata": {},
   "outputs": [
    {
     "data": {
      "text/plain": [
       "Index(['rownumber', 'customerid', 'surname', 'creditscore', 'geography',\n",
       "       'gender', 'age', 'tenure', 'balance', 'numofproducts', 'hascrcard',\n",
       "       'isactivemember', 'estimatedsalary', 'exited'],\n",
       "      dtype='object')"
      ]
     },
     "execution_count": 4,
     "metadata": {},
     "output_type": "execute_result"
    }
   ],
   "source": [
    "df.columns = df.columns.str.lower()\n",
    "df.columns"
   ]
  },
  {
   "cell_type": "code",
   "execution_count": 5,
   "id": "a1f0ee8e",
   "metadata": {},
   "outputs": [
    {
     "data": {
      "text/plain": [
       "Index(['row_number', 'customer_id', 'surname', 'creditscore', 'geography',\n",
       "       'gender', 'age', 'tenure', 'balance', 'num_of_products', 'has_crcard',\n",
       "       'is_active_member', 'estimated_salary', 'exited'],\n",
       "      dtype='object')"
      ]
     },
     "execution_count": 5,
     "metadata": {},
     "output_type": "execute_result"
    }
   ],
   "source": [
    "df.columns = ['row_number', 'customer_id', 'surname', 'creditscore', 'geography',\n",
    "       'gender', 'age', 'tenure', 'balance', 'num_of_products', 'has_crcard',\n",
    "       'is_active_member', 'estimated_salary', 'exited']\n",
    "df.columns"
   ]
  },
  {
   "cell_type": "code",
   "execution_count": 6,
   "id": "dad227e4",
   "metadata": {},
   "outputs": [
    {
     "name": "stdout",
     "output_type": "stream",
     "text": [
      "<class 'pandas.core.frame.DataFrame'>\n",
      "RangeIndex: 10000 entries, 0 to 9999\n",
      "Data columns (total 14 columns):\n",
      " #   Column            Non-Null Count  Dtype  \n",
      "---  ------            --------------  -----  \n",
      " 0   row_number        10000 non-null  int64  \n",
      " 1   customer_id       10000 non-null  int64  \n",
      " 2   surname           10000 non-null  object \n",
      " 3   creditscore       10000 non-null  int64  \n",
      " 4   geography         10000 non-null  object \n",
      " 5   gender            10000 non-null  object \n",
      " 6   age               10000 non-null  int64  \n",
      " 7   tenure            10000 non-null  int64  \n",
      " 8   balance           10000 non-null  float64\n",
      " 9   num_of_products   10000 non-null  int64  \n",
      " 10  has_crcard        10000 non-null  int64  \n",
      " 11  is_active_member  10000 non-null  int64  \n",
      " 12  estimated_salary  10000 non-null  float64\n",
      " 13  exited            10000 non-null  int64  \n",
      "dtypes: float64(2), int64(9), object(3)\n",
      "memory usage: 1.1+ MB\n"
     ]
    }
   ],
   "source": [
    "df.info()"
   ]
  },
  {
   "cell_type": "code",
   "execution_count": 7,
   "id": "70e9094d",
   "metadata": {
    "scrolled": true
   },
   "outputs": [
    {
     "data": {
      "text/html": [
       "<div>\n",
       "<style scoped>\n",
       "    .dataframe tbody tr th:only-of-type {\n",
       "        vertical-align: middle;\n",
       "    }\n",
       "\n",
       "    .dataframe tbody tr th {\n",
       "        vertical-align: top;\n",
       "    }\n",
       "\n",
       "    .dataframe thead th {\n",
       "        text-align: right;\n",
       "    }\n",
       "</style>\n",
       "<table border=\"1\" class=\"dataframe\">\n",
       "  <thead>\n",
       "    <tr style=\"text-align: right;\">\n",
       "      <th></th>\n",
       "      <th>count</th>\n",
       "      <th>unique</th>\n",
       "      <th>top</th>\n",
       "      <th>freq</th>\n",
       "      <th>mean</th>\n",
       "      <th>std</th>\n",
       "      <th>min</th>\n",
       "      <th>25%</th>\n",
       "      <th>50%</th>\n",
       "      <th>75%</th>\n",
       "      <th>max</th>\n",
       "    </tr>\n",
       "  </thead>\n",
       "  <tbody>\n",
       "    <tr>\n",
       "      <th>row_number</th>\n",
       "      <td>10000.0</td>\n",
       "      <td>NaN</td>\n",
       "      <td>NaN</td>\n",
       "      <td>NaN</td>\n",
       "      <td>5000.5</td>\n",
       "      <td>2886.89568</td>\n",
       "      <td>1.0</td>\n",
       "      <td>2500.75</td>\n",
       "      <td>5000.5</td>\n",
       "      <td>7500.25</td>\n",
       "      <td>10000.0</td>\n",
       "    </tr>\n",
       "    <tr>\n",
       "      <th>customer_id</th>\n",
       "      <td>10000.0</td>\n",
       "      <td>NaN</td>\n",
       "      <td>NaN</td>\n",
       "      <td>NaN</td>\n",
       "      <td>15690940.5694</td>\n",
       "      <td>71936.186123</td>\n",
       "      <td>15565701.0</td>\n",
       "      <td>15628528.25</td>\n",
       "      <td>15690738.0</td>\n",
       "      <td>15753233.75</td>\n",
       "      <td>15815690.0</td>\n",
       "    </tr>\n",
       "    <tr>\n",
       "      <th>surname</th>\n",
       "      <td>10000</td>\n",
       "      <td>2932</td>\n",
       "      <td>Smith</td>\n",
       "      <td>32</td>\n",
       "      <td>NaN</td>\n",
       "      <td>NaN</td>\n",
       "      <td>NaN</td>\n",
       "      <td>NaN</td>\n",
       "      <td>NaN</td>\n",
       "      <td>NaN</td>\n",
       "      <td>NaN</td>\n",
       "    </tr>\n",
       "    <tr>\n",
       "      <th>creditscore</th>\n",
       "      <td>10000.0</td>\n",
       "      <td>NaN</td>\n",
       "      <td>NaN</td>\n",
       "      <td>NaN</td>\n",
       "      <td>650.5288</td>\n",
       "      <td>96.653299</td>\n",
       "      <td>350.0</td>\n",
       "      <td>584.0</td>\n",
       "      <td>652.0</td>\n",
       "      <td>718.0</td>\n",
       "      <td>850.0</td>\n",
       "    </tr>\n",
       "    <tr>\n",
       "      <th>geography</th>\n",
       "      <td>10000</td>\n",
       "      <td>3</td>\n",
       "      <td>France</td>\n",
       "      <td>5014</td>\n",
       "      <td>NaN</td>\n",
       "      <td>NaN</td>\n",
       "      <td>NaN</td>\n",
       "      <td>NaN</td>\n",
       "      <td>NaN</td>\n",
       "      <td>NaN</td>\n",
       "      <td>NaN</td>\n",
       "    </tr>\n",
       "    <tr>\n",
       "      <th>gender</th>\n",
       "      <td>10000</td>\n",
       "      <td>2</td>\n",
       "      <td>Male</td>\n",
       "      <td>5457</td>\n",
       "      <td>NaN</td>\n",
       "      <td>NaN</td>\n",
       "      <td>NaN</td>\n",
       "      <td>NaN</td>\n",
       "      <td>NaN</td>\n",
       "      <td>NaN</td>\n",
       "      <td>NaN</td>\n",
       "    </tr>\n",
       "    <tr>\n",
       "      <th>age</th>\n",
       "      <td>10000.0</td>\n",
       "      <td>NaN</td>\n",
       "      <td>NaN</td>\n",
       "      <td>NaN</td>\n",
       "      <td>38.9218</td>\n",
       "      <td>10.487806</td>\n",
       "      <td>18.0</td>\n",
       "      <td>32.0</td>\n",
       "      <td>37.0</td>\n",
       "      <td>44.0</td>\n",
       "      <td>92.0</td>\n",
       "    </tr>\n",
       "    <tr>\n",
       "      <th>tenure</th>\n",
       "      <td>10000.0</td>\n",
       "      <td>NaN</td>\n",
       "      <td>NaN</td>\n",
       "      <td>NaN</td>\n",
       "      <td>5.0128</td>\n",
       "      <td>2.892174</td>\n",
       "      <td>0.0</td>\n",
       "      <td>3.0</td>\n",
       "      <td>5.0</td>\n",
       "      <td>7.0</td>\n",
       "      <td>10.0</td>\n",
       "    </tr>\n",
       "    <tr>\n",
       "      <th>balance</th>\n",
       "      <td>10000.0</td>\n",
       "      <td>NaN</td>\n",
       "      <td>NaN</td>\n",
       "      <td>NaN</td>\n",
       "      <td>76485.889288</td>\n",
       "      <td>62397.405202</td>\n",
       "      <td>0.0</td>\n",
       "      <td>0.0</td>\n",
       "      <td>97198.54</td>\n",
       "      <td>127644.24</td>\n",
       "      <td>250898.09</td>\n",
       "    </tr>\n",
       "    <tr>\n",
       "      <th>num_of_products</th>\n",
       "      <td>10000.0</td>\n",
       "      <td>NaN</td>\n",
       "      <td>NaN</td>\n",
       "      <td>NaN</td>\n",
       "      <td>1.5302</td>\n",
       "      <td>0.581654</td>\n",
       "      <td>1.0</td>\n",
       "      <td>1.0</td>\n",
       "      <td>1.0</td>\n",
       "      <td>2.0</td>\n",
       "      <td>4.0</td>\n",
       "    </tr>\n",
       "    <tr>\n",
       "      <th>has_crcard</th>\n",
       "      <td>10000.0</td>\n",
       "      <td>NaN</td>\n",
       "      <td>NaN</td>\n",
       "      <td>NaN</td>\n",
       "      <td>0.7055</td>\n",
       "      <td>0.45584</td>\n",
       "      <td>0.0</td>\n",
       "      <td>0.0</td>\n",
       "      <td>1.0</td>\n",
       "      <td>1.0</td>\n",
       "      <td>1.0</td>\n",
       "    </tr>\n",
       "    <tr>\n",
       "      <th>is_active_member</th>\n",
       "      <td>10000.0</td>\n",
       "      <td>NaN</td>\n",
       "      <td>NaN</td>\n",
       "      <td>NaN</td>\n",
       "      <td>0.5151</td>\n",
       "      <td>0.499797</td>\n",
       "      <td>0.0</td>\n",
       "      <td>0.0</td>\n",
       "      <td>1.0</td>\n",
       "      <td>1.0</td>\n",
       "      <td>1.0</td>\n",
       "    </tr>\n",
       "    <tr>\n",
       "      <th>estimated_salary</th>\n",
       "      <td>10000.0</td>\n",
       "      <td>NaN</td>\n",
       "      <td>NaN</td>\n",
       "      <td>NaN</td>\n",
       "      <td>100090.239881</td>\n",
       "      <td>57510.492818</td>\n",
       "      <td>11.58</td>\n",
       "      <td>51002.11</td>\n",
       "      <td>100193.915</td>\n",
       "      <td>149388.2475</td>\n",
       "      <td>199992.48</td>\n",
       "    </tr>\n",
       "    <tr>\n",
       "      <th>exited</th>\n",
       "      <td>10000.0</td>\n",
       "      <td>NaN</td>\n",
       "      <td>NaN</td>\n",
       "      <td>NaN</td>\n",
       "      <td>0.2037</td>\n",
       "      <td>0.402769</td>\n",
       "      <td>0.0</td>\n",
       "      <td>0.0</td>\n",
       "      <td>0.0</td>\n",
       "      <td>0.0</td>\n",
       "      <td>1.0</td>\n",
       "    </tr>\n",
       "  </tbody>\n",
       "</table>\n",
       "</div>"
      ],
      "text/plain": [
       "                    count unique     top  freq           mean           std  \\\n",
       "row_number        10000.0    NaN     NaN   NaN         5000.5    2886.89568   \n",
       "customer_id       10000.0    NaN     NaN   NaN  15690940.5694  71936.186123   \n",
       "surname             10000   2932   Smith    32            NaN           NaN   \n",
       "creditscore       10000.0    NaN     NaN   NaN       650.5288     96.653299   \n",
       "geography           10000      3  France  5014            NaN           NaN   \n",
       "gender              10000      2    Male  5457            NaN           NaN   \n",
       "age               10000.0    NaN     NaN   NaN        38.9218     10.487806   \n",
       "tenure            10000.0    NaN     NaN   NaN         5.0128      2.892174   \n",
       "balance           10000.0    NaN     NaN   NaN   76485.889288  62397.405202   \n",
       "num_of_products   10000.0    NaN     NaN   NaN         1.5302      0.581654   \n",
       "has_crcard        10000.0    NaN     NaN   NaN         0.7055       0.45584   \n",
       "is_active_member  10000.0    NaN     NaN   NaN         0.5151      0.499797   \n",
       "estimated_salary  10000.0    NaN     NaN   NaN  100090.239881  57510.492818   \n",
       "exited            10000.0    NaN     NaN   NaN         0.2037      0.402769   \n",
       "\n",
       "                         min          25%         50%          75%         max  \n",
       "row_number               1.0      2500.75      5000.5      7500.25     10000.0  \n",
       "customer_id       15565701.0  15628528.25  15690738.0  15753233.75  15815690.0  \n",
       "surname                  NaN          NaN         NaN          NaN         NaN  \n",
       "creditscore            350.0        584.0       652.0        718.0       850.0  \n",
       "geography                NaN          NaN         NaN          NaN         NaN  \n",
       "gender                   NaN          NaN         NaN          NaN         NaN  \n",
       "age                     18.0         32.0        37.0         44.0        92.0  \n",
       "tenure                   0.0          3.0         5.0          7.0        10.0  \n",
       "balance                  0.0          0.0    97198.54    127644.24   250898.09  \n",
       "num_of_products          1.0          1.0         1.0          2.0         4.0  \n",
       "has_crcard               0.0          0.0         1.0          1.0         1.0  \n",
       "is_active_member         0.0          0.0         1.0          1.0         1.0  \n",
       "estimated_salary       11.58     51002.11  100193.915  149388.2475   199992.48  \n",
       "exited                   0.0          0.0         0.0          0.0         1.0  "
      ]
     },
     "execution_count": 7,
     "metadata": {},
     "output_type": "execute_result"
    }
   ],
   "source": [
    "df.describe(include='all').T"
   ]
  },
  {
   "cell_type": "code",
   "execution_count": 8,
   "id": "53295da3",
   "metadata": {},
   "outputs": [
    {
     "data": {
      "text/html": [
       "<div>\n",
       "<style scoped>\n",
       "    .dataframe tbody tr th:only-of-type {\n",
       "        vertical-align: middle;\n",
       "    }\n",
       "\n",
       "    .dataframe tbody tr th {\n",
       "        vertical-align: top;\n",
       "    }\n",
       "\n",
       "    .dataframe thead th {\n",
       "        text-align: right;\n",
       "    }\n",
       "</style>\n",
       "<table border=\"1\" class=\"dataframe\">\n",
       "  <thead>\n",
       "    <tr style=\"text-align: right;\">\n",
       "      <th></th>\n",
       "      <th>exited</th>\n",
       "    </tr>\n",
       "  </thead>\n",
       "  <tbody>\n",
       "    <tr>\n",
       "      <th>0</th>\n",
       "      <td>7963</td>\n",
       "    </tr>\n",
       "    <tr>\n",
       "      <th>1</th>\n",
       "      <td>2037</td>\n",
       "    </tr>\n",
       "  </tbody>\n",
       "</table>\n",
       "</div>"
      ],
      "text/plain": [
       "   exited\n",
       "0    7963\n",
       "1    2037"
      ]
     },
     "execution_count": 8,
     "metadata": {},
     "output_type": "execute_result"
    }
   ],
   "source": [
    "df['exited'].value_counts().to_frame()"
   ]
  },
  {
   "cell_type": "code",
   "execution_count": 9,
   "id": "50ad1799",
   "metadata": {},
   "outputs": [
    {
     "name": "stdout",
     "output_type": "stream",
     "text": [
      "Percentage of positive marks: 20.4%\n"
     ]
    }
   ],
   "source": [
    "print('Percentage of positive marks: {:.1%}'.format(df['exited'].mean()))"
   ]
  },
  {
   "cell_type": "code",
   "execution_count": 10,
   "id": "ffb6444c",
   "metadata": {},
   "outputs": [
    {
     "data": {
      "text/plain": [
       "0"
      ]
     },
     "execution_count": 10,
     "metadata": {},
     "output_type": "execute_result"
    }
   ],
   "source": [
    "df.duplicated().sum()"
   ]
  },
  {
   "cell_type": "markdown",
   "id": "f8fb763f",
   "metadata": {},
   "source": [
    "# Меры центральной тенденции"
   ]
  },
  {
   "cell_type": "code",
   "execution_count": 11,
   "id": "d893bcd8",
   "metadata": {},
   "outputs": [],
   "source": [
    "not_null_balance = df[df['balance'] != 0]['balance']"
   ]
  },
  {
   "cell_type": "code",
   "execution_count": 12,
   "id": "0e5d8d6a",
   "metadata": {},
   "outputs": [
    {
     "data": {
      "image/png": "[encoded data removed]",
      "text/plain": [
       "<Figure size 864x576 with 1 Axes>"
      ]
     },
     "metadata": {
      "needs_background": "light"
     },
     "output_type": "display_data"
    }
   ],
   "source": [
    "not_null_balance.hist(\n",
    "    bins=50, \n",
    "    figsize=(12,8), \n",
    "    edgecolor='black'\n",
    ");"
   ]
  },
  {
   "cell_type": "markdown",
   "id": "a575b27d",
   "metadata": {},
   "source": [
    "### Среднее значение"
   ]
  },
  {
   "cell_type": "code",
   "execution_count": 13,
   "id": "69eb80f5",
   "metadata": {},
   "outputs": [
    {
     "data": {
      "text/plain": [
       "119827.49379288674"
      ]
     },
     "execution_count": 13,
     "metadata": {},
     "output_type": "execute_result"
    }
   ],
   "source": [
    "not_null_balance.mean()"
   ]
  },
  {
   "cell_type": "markdown",
   "id": "06fdcb8c",
   "metadata": {},
   "source": [
    "### Медиана"
   ]
  },
  {
   "cell_type": "code",
   "execution_count": 14,
   "id": "441a7e91",
   "metadata": {},
   "outputs": [
    {
     "data": {
      "text/plain": [
       "119839.69"
      ]
     },
     "execution_count": 14,
     "metadata": {},
     "output_type": "execute_result"
    }
   ],
   "source": [
    "not_null_balance.median()"
   ]
  },
  {
   "cell_type": "markdown",
   "id": "9b44a038",
   "metadata": {},
   "source": [
    "### Мода"
   ]
  },
  {
   "cell_type": "code",
   "execution_count": 15,
   "id": "6c67c942",
   "metadata": {},
   "outputs": [
    {
     "data": {
      "text/plain": [
       "0    105473.74\n",
       "1    130170.82\n",
       "dtype: float64"
      ]
     },
     "execution_count": 15,
     "metadata": {},
     "output_type": "execute_result"
    }
   ],
   "source": [
    "not_null_balance.mode()"
   ]
  },
  {
   "cell_type": "markdown",
   "id": "28474d75",
   "metadata": {},
   "source": [
    "# Меры изменчивости"
   ]
  },
  {
   "cell_type": "markdown",
   "id": "92fb85ff",
   "metadata": {},
   "source": [
    "### Размах"
   ]
  },
  {
   "cell_type": "code",
   "execution_count": 16,
   "id": "a1a4b8ad",
   "metadata": {},
   "outputs": [
    {
     "name": "stdout",
     "output_type": "stream",
     "text": [
      "min:  3768.69\n",
      "max:  250898.09\n",
      "размах:  247129.4\n"
     ]
    }
   ],
   "source": [
    "print(\"min: \", np.nanmin(not_null_balance))\n",
    "print(\"max: \", np.nanmax(not_null_balance))\n",
    "print(\"размах: \", np.ptp(not_null_balance))"
   ]
  },
  {
   "cell_type": "markdown",
   "id": "eab859f0",
   "metadata": {},
   "source": [
    "### Дисперсия"
   ]
  },
  {
   "cell_type": "markdown",
   "id": "409ed862",
   "metadata": {},
   "source": [
    "Диспе́рсия случа́йной величины́ — мера разброса значений случайной величины относительно её математического ожидания."
   ]
  },
  {
   "cell_type": "markdown",
   "id": "235f1d1f",
   "metadata": {},
   "source": [
    "#### Для генеральной совокупности"
   ]
  },
  {
   "cell_type": "code",
   "execution_count": 17,
   "id": "f4693aa2",
   "metadata": {},
   "outputs": [
    {
     "data": {
      "text/plain": [
       "905570528.9801762"
      ]
     },
     "execution_count": 17,
     "metadata": {},
     "output_type": "execute_result"
    }
   ],
   "source": [
    "np.var(not_null_balance)"
   ]
  },
  {
   "cell_type": "markdown",
   "id": "4f3345d1",
   "metadata": {},
   "source": [
    "#### Для выборки (уменьшаем кол-во степеней свободы на 1)"
   ]
  },
  {
   "cell_type": "code",
   "execution_count": 18,
   "id": "81889fea",
   "metadata": {},
   "outputs": [
    {
     "data": {
      "text/plain": [
       "905712423.4535357"
      ]
     },
     "execution_count": 18,
     "metadata": {},
     "output_type": "execute_result"
    }
   ],
   "source": [
    "np.var(not_null_balance, ddof=1)"
   ]
  },
  {
   "cell_type": "markdown",
   "id": "33096336",
   "metadata": {},
   "source": [
    "### Стандартное отклонение"
   ]
  },
  {
   "cell_type": "markdown",
   "id": "11bca3d2",
   "metadata": {},
   "source": [
    "Среднеквадрати́ческое отклоне́ние — показатель рассеивания значений случайной величины относительно её математического ожидания. Обычно он означает квадратный корень из дисперсии случайной величины.\n",
    "В статистике принято два обозначения: sigma — для генеральной совокупности и sd (с англ. standard deviation — стандартное отклонение) — для выборки."
   ]
  },
  {
   "cell_type": "markdown",
   "id": "bb18f782",
   "metadata": {},
   "source": [
    "#### Для генеральной совокупности"
   ]
  },
  {
   "cell_type": "code",
   "execution_count": 19,
   "id": "1bc6eeb1",
   "metadata": {},
   "outputs": [
    {
     "data": {
      "text/plain": [
       "30092.69893147134"
      ]
     },
     "execution_count": 19,
     "metadata": {},
     "output_type": "execute_result"
    }
   ],
   "source": [
    "np.std(not_null_balance)"
   ]
  },
  {
   "cell_type": "markdown",
   "id": "ed4caecc",
   "metadata": {},
   "source": [
    "#### Для выборки (уменьшаем кол-во степеней свободы на 1)"
   ]
  },
  {
   "cell_type": "code",
   "execution_count": 20,
   "id": "a78ce489",
   "metadata": {},
   "outputs": [
    {
     "data": {
      "text/plain": [
       "30095.05646204266"
      ]
     },
     "execution_count": 20,
     "metadata": {},
     "output_type": "execute_result"
    }
   ],
   "source": [
    "np.std(not_null_balance, ddof=1)"
   ]
  },
  {
   "cell_type": "markdown",
   "id": "8264d70b",
   "metadata": {},
   "source": [
    "# Квартили распределения и график box-plot"
   ]
  },
  {
   "cell_type": "code",
   "execution_count": 21,
   "id": "5ca80a8c",
   "metadata": {},
   "outputs": [
    {
     "name": "stdout",
     "output_type": "stream",
     "text": [
      "100181.975\n",
      "119839.69\n",
      "139512.29\n"
     ]
    }
   ],
   "source": [
    "# Первый квартиль\n",
    "print(np.quantile(not_null_balance, 0.25))\n",
    "# Второй квартиль\n",
    "print(np.quantile(not_null_balance, 0.50))\n",
    "# Третий квартиль\n",
    "print(np.quantile(not_null_balance, 0.75))"
   ]
  },
  {
   "cell_type": "code",
   "execution_count": 22,
   "id": "9d899625",
   "metadata": {
    "scrolled": true
   },
   "outputs": [
    {
     "data": {
      "image/png": "[encoded data removed]",
      "text/plain": [
       "<Figure size 864x288 with 1 Axes>"
      ]
     },
     "metadata": {
      "needs_background": "light"
     },
     "output_type": "display_data"
    }
   ],
   "source": [
    "plt.figure(figsize=(12,4))\n",
    "sns.boxplot(x=not_null_balance);"
   ]
  },
  {
   "cell_type": "markdown",
   "id": "6ecf513d",
   "metadata": {},
   "source": [
    "# Нормальное распределение"
   ]
  },
  {
   "cell_type": "markdown",
   "id": "0e0ae230",
   "metadata": {},
   "source": [
    "### Стандартизация"
   ]
  },
  {
   "cell_type": "code",
   "execution_count": 23,
   "id": "80aa7ba4",
   "metadata": {},
   "outputs": [
    {
     "data": {
      "image/png": "[encoded data removed]",
      "text/plain": [
       "<Figure size 432x288 with 1 Axes>"
      ]
     },
     "metadata": {
      "needs_background": "light"
     },
     "output_type": "display_data"
    }
   ],
   "source": [
    "sns.histplot(x=not_null_balance);"
   ]
  },
  {
   "cell_type": "code",
   "execution_count": 24,
   "id": "abef75db",
   "metadata": {},
   "outputs": [],
   "source": [
    "not_null_balance_z_st = st.zscore(not_null_balance)"
   ]
  },
  {
   "cell_type": "code",
   "execution_count": 25,
   "id": "d2f9f86a",
   "metadata": {},
   "outputs": [
    {
     "data": {
      "image/png": "[encoded data removed]",
      "text/plain": [
       "<Figure size 432x288 with 1 Axes>"
      ]
     },
     "metadata": {
      "needs_background": "light"
     },
     "output_type": "display_data"
    }
   ],
   "source": [
    "sns.histplot(x=not_null_balance_z_st);"
   ]
  },
  {
   "cell_type": "code",
   "execution_count": 26,
   "id": "3b2f85ea",
   "metadata": {},
   "outputs": [],
   "source": [
    "def calc_proba(data, value):\n",
    "    '''\n",
    "    Какой процент наблюдений в data превосходит значение value\n",
    "    '''\n",
    "    mean = np.mean(data)\n",
    "    std = np.std(data, ddof=1)\n",
    "    z = (value - mean) / std\n",
    "    proba = 1 - st.norm.cdf(z)\n",
    "    return proba"
   ]
  },
  {
   "cell_type": "code",
   "execution_count": 27,
   "id": "0448abdc",
   "metadata": {},
   "outputs": [
    {
     "data": {
      "text/plain": [
       "0.5"
      ]
     },
     "execution_count": 27,
     "metadata": {},
     "output_type": "execute_result"
    }
   ],
   "source": [
    "calc_proba(not_null_balance, np.mean(not_null_balance))"
   ]
  },
  {
   "cell_type": "markdown",
   "id": "d822474a",
   "metadata": {},
   "source": [
    "### Доверительный интервал "
   ]
  },
  {
   "cell_type": "code",
   "execution_count": 28,
   "id": "95132d0e",
   "metadata": {},
   "outputs": [],
   "source": [
    "def calc_confidence_interval(sample, sigma_value=2):\n",
    "    '''\n",
    "    Расчитывает доверительный интервал для среднего значения у генеральной совокупности \n",
    "    по выборке с заданной точностью (sigma_value)\n",
    "    '''\n",
    "    sample_mean = np.mean(sample)\n",
    "    sample_std = np.std(sample, ddof=1)\n",
    "    se = sample_std / sqrt(len(sample))\n",
    "    l_inter = sample_mean - sigma_value * se\n",
    "    r_inter = sample_mean + sigma_value * se\n",
    "    return l_inter, r_inter"
   ]
  },
  {
   "cell_type": "code",
   "execution_count": 29,
   "id": "c324d368",
   "metadata": {},
   "outputs": [
    {
     "name": "stdout",
     "output_type": "stream",
     "text": [
      "119827.49379288674\n",
      "118394.61477801797\n",
      "122192.21324198216\n"
     ]
    }
   ],
   "source": [
    "left_interval, right_interval = calc_confidence_interval(not_null_balance.sample(1000))\n",
    "print(not_null_balance.mean())\n",
    "print(left_interval)\n",
    "print(right_interval)"
   ]
  },
  {
   "cell_type": "markdown",
   "id": "645034d6",
   "metadata": {},
   "source": [
    "### P-value"
   ]
  },
  {
   "cell_type": "code",
   "execution_count": 30,
   "id": "3e08eaa5",
   "metadata": {},
   "outputs": [],
   "source": [
    "M = 20\n",
    "n = 64\n",
    "m = 18.5\n",
    "sd = 4"
   ]
  },
  {
   "cell_type": "code",
   "execution_count": 31,
   "id": "88a7d3a8",
   "metadata": {},
   "outputs": [],
   "source": [
    "def calc_p_value1(M1, n2, m2, sd2):\n",
    "    '''\n",
    "    Для задачи\n",
    "    https://stepik.org/lesson/8078/step/3?unit=1358\n",
    "    \n",
    "    M1 - среднее значение 1-ой выборки\n",
    "    \n",
    "    n2 - размер 2-ой выборки\n",
    "    m2 - среднее значение 2-ой выборки\n",
    "    sd2 - стандартное отклонение 2-ой выборки\n",
    "    '''\n",
    "    se2 = sd2/sqrt(n2) # расчет стандартной ошибки среднего для 2-ой выборки (проверяемая, новая)\n",
    "    z2 = (m2-M1)/se2 # Z-преобразование\n",
    "    print(z2)\n",
    "    return st.norm.sf(abs(z2))*2"
   ]
  },
  {
   "cell_type": "code",
   "execution_count": 32,
   "id": "136234c2",
   "metadata": {},
   "outputs": [
    {
     "name": "stdout",
     "output_type": "stream",
     "text": [
      "-3.0\n"
     ]
    },
    {
     "data": {
      "text/plain": [
       "0.0026997960632601866"
      ]
     },
     "execution_count": 32,
     "metadata": {},
     "output_type": "execute_result"
    }
   ],
   "source": [
    "calc_p_value1(M, n, m, sd)"
   ]
  },
  {
   "cell_type": "markdown",
   "id": "018154af",
   "metadata": {},
   "source": [
    "# Проверка распределения на нормальность"
   ]
  },
  {
   "cell_type": "markdown",
   "id": "9be8013d",
   "metadata": {},
   "source": [
    "### QQ-plot"
   ]
  },
  {
   "cell_type": "code",
   "execution_count": 33,
   "id": "afd3afb2",
   "metadata": {},
   "outputs": [
    {
     "data": {
      "image/png": "[encoded data removed]",
      "text/plain": [
       "<Figure size 432x288 with 1 Axes>"
      ]
     },
     "execution_count": 33,
     "metadata": {},
     "output_type": "execute_result"
    },
    {
     "data": {
      "image/png": "[encoded data removed]",
      "text/plain": [
       "<Figure size 432x288 with 1 Axes>"
      ]
     },
     "metadata": {
      "needs_background": "light"
     },
     "output_type": "display_data"
    }
   ],
   "source": [
    "sm.qqplot(not_null_balance_z_st, line='45')"
   ]
  },
  {
   "cell_type": "markdown",
   "id": "7020b9ef",
   "metadata": {},
   "source": [
    "### Тест Шапиро-Уилка"
   ]
  },
  {
   "cell_type": "code",
   "execution_count": 34,
   "id": "574d89cb",
   "metadata": {},
   "outputs": [
    {
     "data": {
      "text/plain": [
       "<AxesSubplot:>"
      ]
     },
     "execution_count": 34,
     "metadata": {},
     "output_type": "execute_result"
    },
    {
     "data": {
      "image/png": "[encoded data removed]",
      "text/plain": [
       "<Figure size 432x288 with 1 Axes>"
      ]
     },
     "metadata": {
      "needs_background": "light"
     },
     "output_type": "display_data"
    }
   ],
   "source": [
    "not_null_balance.hist()"
   ]
  },
  {
   "cell_type": "code",
   "execution_count": 35,
   "id": "ba2a7ba2",
   "metadata": {},
   "outputs": [],
   "source": [
    "not_null_balance_100sapmple = not_null_balance.sample(100)"
   ]
  },
  {
   "cell_type": "code",
   "execution_count": 36,
   "id": "fa6c43c8",
   "metadata": {},
   "outputs": [
    {
     "data": {
      "text/plain": [
       "<AxesSubplot:>"
      ]
     },
     "execution_count": 36,
     "metadata": {},
     "output_type": "execute_result"
    },
    {
     "data": {
      "image/png": "[encoded data removed]",
      "text/plain": [
       "<Figure size 432x288 with 1 Axes>"
      ]
     },
     "metadata": {
      "needs_background": "light"
     },
     "output_type": "display_data"
    }
   ],
   "source": [
    "not_null_balance_100sapmple.hist()"
   ]
  },
  {
   "cell_type": "code",
   "execution_count": 37,
   "id": "76b32bbd",
   "metadata": {},
   "outputs": [
    {
     "data": {
      "text/plain": [
       "ShapiroResult(statistic=0.9843605756759644, pvalue=0.28534090518951416)"
      ]
     },
     "execution_count": 37,
     "metadata": {},
     "output_type": "execute_result"
    }
   ],
   "source": [
    "st.shapiro(not_null_balance_100sapmple)"
   ]
  },
  {
   "cell_type": "code",
   "execution_count": 38,
   "id": "2219da01",
   "metadata": {},
   "outputs": [],
   "source": [
    "from random import randrange"
   ]
  },
  {
   "cell_type": "code",
   "execution_count": 39,
   "id": "edd0e89e",
   "metadata": {},
   "outputs": [],
   "source": [
    "def coin_flip(N, n):\n",
    "    chi2 = []\n",
    "    for _ in range(0,N):\n",
    "        experiment = []\n",
    "        for _ in range(0,n):\n",
    "            experiment.append(randrange(2))\n",
    "        # print('experiment: ', experiment)\n",
    "        # print('len: ', len(experiment))\n",
    "        # print('sum: ', sum(experiment))\n",
    "        # пересчет формулы !\n",
    "        chi2_experiment = ((sum(experiment)-n/2)**2+(n-sum(experiment)-n/2)**2)/(n/2)\n",
    "        # print(sum(experiment), n-sum(experiment))\n",
    "        # print('chi2_experiment: ', chi2_experiment)\n",
    "        chi2.append(chi2_experiment)\n",
    "    # print('chi2: ', chi2)\n",
    "    return chi2"
   ]
  },
  {
   "cell_type": "code",
   "execution_count": 40,
   "id": "98b0380a",
   "metadata": {},
   "outputs": [],
   "source": [
    "coin_flip_chi2 = coin_flip(1000, 60)"
   ]
  },
  {
   "cell_type": "code",
   "execution_count": 41,
   "id": "8390148d",
   "metadata": {},
   "outputs": [
    {
     "data": {
      "text/plain": [
       "<AxesSubplot:>"
      ]
     },
     "execution_count": 41,
     "metadata": {},
     "output_type": "execute_result"
    },
    {
     "data": {
      "image/png": "[encoded data removed]",
      "text/plain": [
       "<Figure size 432x288 with 1 Axes>"
      ]
     },
     "metadata": {
      "needs_background": "light"
     },
     "output_type": "display_data"
    }
   ],
   "source": [
    "pd.Series(coin_flip_chi2).hist()"
   ]
  },
  {
   "cell_type": "markdown",
   "id": "5b98aeff",
   "metadata": {},
   "source": [
    "# Research of task"
   ]
  },
  {
   "cell_type": "markdown",
   "id": "ccd3c2c9",
   "metadata": {},
   "source": [
    "### Remove unnecessary features "
   ]
  },
  {
   "cell_type": "code",
   "execution_count": 42,
   "id": "5120c859",
   "metadata": {},
   "outputs": [
    {
     "data": {
      "text/html": [
       "<div>\n",
       "<style scoped>\n",
       "    .dataframe tbody tr th:only-of-type {\n",
       "        vertical-align: middle;\n",
       "    }\n",
       "\n",
       "    .dataframe tbody tr th {\n",
       "        vertical-align: top;\n",
       "    }\n",
       "\n",
       "    .dataframe thead th {\n",
       "        text-align: right;\n",
       "    }\n",
       "</style>\n",
       "<table border=\"1\" class=\"dataframe\">\n",
       "  <thead>\n",
       "    <tr style=\"text-align: right;\">\n",
       "      <th></th>\n",
       "      <th>creditscore</th>\n",
       "      <th>geography</th>\n",
       "      <th>gender</th>\n",
       "      <th>age</th>\n",
       "      <th>tenure</th>\n",
       "      <th>balance</th>\n",
       "      <th>num_of_products</th>\n",
       "      <th>has_crcard</th>\n",
       "      <th>is_active_member</th>\n",
       "      <th>estimated_salary</th>\n",
       "      <th>exited</th>\n",
       "    </tr>\n",
       "  </thead>\n",
       "  <tbody>\n",
       "    <tr>\n",
       "      <th>0</th>\n",
       "      <td>619</td>\n",
       "      <td>France</td>\n",
       "      <td>Female</td>\n",
       "      <td>42</td>\n",
       "      <td>2</td>\n",
       "      <td>0.00</td>\n",
       "      <td>1</td>\n",
       "      <td>1</td>\n",
       "      <td>1</td>\n",
       "      <td>101348.88</td>\n",
       "      <td>1</td>\n",
       "    </tr>\n",
       "    <tr>\n",
       "      <th>1</th>\n",
       "      <td>608</td>\n",
       "      <td>Spain</td>\n",
       "      <td>Female</td>\n",
       "      <td>41</td>\n",
       "      <td>1</td>\n",
       "      <td>83807.86</td>\n",
       "      <td>1</td>\n",
       "      <td>0</td>\n",
       "      <td>1</td>\n",
       "      <td>112542.58</td>\n",
       "      <td>0</td>\n",
       "    </tr>\n",
       "    <tr>\n",
       "      <th>2</th>\n",
       "      <td>502</td>\n",
       "      <td>France</td>\n",
       "      <td>Female</td>\n",
       "      <td>42</td>\n",
       "      <td>8</td>\n",
       "      <td>159660.80</td>\n",
       "      <td>3</td>\n",
       "      <td>1</td>\n",
       "      <td>0</td>\n",
       "      <td>113931.57</td>\n",
       "      <td>1</td>\n",
       "    </tr>\n",
       "    <tr>\n",
       "      <th>3</th>\n",
       "      <td>699</td>\n",
       "      <td>France</td>\n",
       "      <td>Female</td>\n",
       "      <td>39</td>\n",
       "      <td>1</td>\n",
       "      <td>0.00</td>\n",
       "      <td>2</td>\n",
       "      <td>0</td>\n",
       "      <td>0</td>\n",
       "      <td>93826.63</td>\n",
       "      <td>0</td>\n",
       "    </tr>\n",
       "    <tr>\n",
       "      <th>4</th>\n",
       "      <td>850</td>\n",
       "      <td>Spain</td>\n",
       "      <td>Female</td>\n",
       "      <td>43</td>\n",
       "      <td>2</td>\n",
       "      <td>125510.82</td>\n",
       "      <td>1</td>\n",
       "      <td>1</td>\n",
       "      <td>1</td>\n",
       "      <td>79084.10</td>\n",
       "      <td>0</td>\n",
       "    </tr>\n",
       "  </tbody>\n",
       "</table>\n",
       "</div>"
      ],
      "text/plain": [
       "   creditscore geography  gender  age  tenure    balance  num_of_products  \\\n",
       "0          619    France  Female   42       2       0.00                1   \n",
       "1          608     Spain  Female   41       1   83807.86                1   \n",
       "2          502    France  Female   42       8  159660.80                3   \n",
       "3          699    France  Female   39       1       0.00                2   \n",
       "4          850     Spain  Female   43       2  125510.82                1   \n",
       "\n",
       "   has_crcard  is_active_member  estimated_salary  exited  \n",
       "0           1                 1         101348.88       1  \n",
       "1           0                 1         112542.58       0  \n",
       "2           1                 0         113931.57       1  \n",
       "3           0                 0          93826.63       0  \n",
       "4           1                 1          79084.10       0  "
      ]
     },
     "execution_count": 42,
     "metadata": {},
     "output_type": "execute_result"
    }
   ],
   "source": [
    "data = df.drop(['row_number', 'customer_id', 'surname'], axis=1).copy()\n",
    "data.head()"
   ]
  },
  {
   "cell_type": "markdown",
   "id": "b9e2a731",
   "metadata": {},
   "source": [
    "### One-hot Encoding"
   ]
  },
  {
   "cell_type": "code",
   "execution_count": 43,
   "id": "1694a9e3",
   "metadata": {},
   "outputs": [
    {
     "data": {
      "text/html": [
       "<div>\n",
       "<style scoped>\n",
       "    .dataframe tbody tr th:only-of-type {\n",
       "        vertical-align: middle;\n",
       "    }\n",
       "\n",
       "    .dataframe tbody tr th {\n",
       "        vertical-align: top;\n",
       "    }\n",
       "\n",
       "    .dataframe thead th {\n",
       "        text-align: right;\n",
       "    }\n",
       "</style>\n",
       "<table border=\"1\" class=\"dataframe\">\n",
       "  <thead>\n",
       "    <tr style=\"text-align: right;\">\n",
       "      <th></th>\n",
       "      <th>creditscore</th>\n",
       "      <th>age</th>\n",
       "      <th>tenure</th>\n",
       "      <th>balance</th>\n",
       "      <th>num_of_products</th>\n",
       "      <th>has_crcard</th>\n",
       "      <th>is_active_member</th>\n",
       "      <th>estimated_salary</th>\n",
       "      <th>exited</th>\n",
       "      <th>Male</th>\n",
       "      <th>Germany</th>\n",
       "      <th>Spain</th>\n",
       "    </tr>\n",
       "  </thead>\n",
       "  <tbody>\n",
       "    <tr>\n",
       "      <th>0</th>\n",
       "      <td>619</td>\n",
       "      <td>42</td>\n",
       "      <td>2</td>\n",
       "      <td>0.00</td>\n",
       "      <td>1</td>\n",
       "      <td>1</td>\n",
       "      <td>1</td>\n",
       "      <td>101348.88</td>\n",
       "      <td>1</td>\n",
       "      <td>0</td>\n",
       "      <td>0</td>\n",
       "      <td>0</td>\n",
       "    </tr>\n",
       "    <tr>\n",
       "      <th>1</th>\n",
       "      <td>608</td>\n",
       "      <td>41</td>\n",
       "      <td>1</td>\n",
       "      <td>83807.86</td>\n",
       "      <td>1</td>\n",
       "      <td>0</td>\n",
       "      <td>1</td>\n",
       "      <td>112542.58</td>\n",
       "      <td>0</td>\n",
       "      <td>0</td>\n",
       "      <td>0</td>\n",
       "      <td>1</td>\n",
       "    </tr>\n",
       "    <tr>\n",
       "      <th>2</th>\n",
       "      <td>502</td>\n",
       "      <td>42</td>\n",
       "      <td>8</td>\n",
       "      <td>159660.80</td>\n",
       "      <td>3</td>\n",
       "      <td>1</td>\n",
       "      <td>0</td>\n",
       "      <td>113931.57</td>\n",
       "      <td>1</td>\n",
       "      <td>0</td>\n",
       "      <td>0</td>\n",
       "      <td>0</td>\n",
       "    </tr>\n",
       "    <tr>\n",
       "      <th>3</th>\n",
       "      <td>699</td>\n",
       "      <td>39</td>\n",
       "      <td>1</td>\n",
       "      <td>0.00</td>\n",
       "      <td>2</td>\n",
       "      <td>0</td>\n",
       "      <td>0</td>\n",
       "      <td>93826.63</td>\n",
       "      <td>0</td>\n",
       "      <td>0</td>\n",
       "      <td>0</td>\n",
       "      <td>0</td>\n",
       "    </tr>\n",
       "    <tr>\n",
       "      <th>4</th>\n",
       "      <td>850</td>\n",
       "      <td>43</td>\n",
       "      <td>2</td>\n",
       "      <td>125510.82</td>\n",
       "      <td>1</td>\n",
       "      <td>1</td>\n",
       "      <td>1</td>\n",
       "      <td>79084.10</td>\n",
       "      <td>0</td>\n",
       "      <td>0</td>\n",
       "      <td>0</td>\n",
       "      <td>1</td>\n",
       "    </tr>\n",
       "  </tbody>\n",
       "</table>\n",
       "</div>"
      ],
      "text/plain": [
       "   creditscore  age  tenure    balance  num_of_products  has_crcard  \\\n",
       "0          619   42       2       0.00                1           1   \n",
       "1          608   41       1   83807.86                1           0   \n",
       "2          502   42       8  159660.80                3           1   \n",
       "3          699   39       1       0.00                2           0   \n",
       "4          850   43       2  125510.82                1           1   \n",
       "\n",
       "   is_active_member  estimated_salary  exited  Male  Germany  Spain  \n",
       "0                 1         101348.88       1     0        0      0  \n",
       "1                 1         112542.58       0     0        0      1  \n",
       "2                 0         113931.57       1     0        0      0  \n",
       "3                 0          93826.63       0     0        0      0  \n",
       "4                 1          79084.10       0     0        0      1  "
      ]
     },
     "execution_count": 43,
     "metadata": {},
     "output_type": "execute_result"
    }
   ],
   "source": [
    "# OHE of features\n",
    "gender_ohe = pd.get_dummies(df[\"gender\"], drop_first=True)\n",
    "country_ohe = pd.get_dummies(df[\"geography\"], drop_first=True)\n",
    "\n",
    "# delete catfeatures\n",
    "data.drop([\"gender\", \"geography\"], axis=1, inplace=True)\n",
    "\n",
    "#concat new sets\n",
    "df_ohe = pd.concat([data, gender_ohe, country_ohe], axis=1)\n",
    "\n",
    "df_ohe.head()"
   ]
  },
  {
   "cell_type": "code",
   "execution_count": 44,
   "id": "76faa7c0",
   "metadata": {},
   "outputs": [
    {
     "data": {
      "text/plain": [
       "Index(['creditscore', 'age', 'tenure', 'balance', 'num_of_products',\n",
       "       'has_crcard', 'is_active_member', 'estimated_salary', 'exited', 'male',\n",
       "       'germany', 'spain'],\n",
       "      dtype='object')"
      ]
     },
     "execution_count": 44,
     "metadata": {},
     "output_type": "execute_result"
    }
   ],
   "source": [
    "df_ohe.columns = df_ohe.columns.str.lower()\n",
    "df_ohe.columns"
   ]
  },
  {
   "cell_type": "code",
   "execution_count": 45,
   "id": "ef8f126f",
   "metadata": {},
   "outputs": [
    {
     "name": "stdout",
     "output_type": "stream",
     "text": [
      "<class 'pandas.core.frame.DataFrame'>\n",
      "RangeIndex: 10000 entries, 0 to 9999\n",
      "Data columns (total 12 columns):\n",
      " #   Column            Non-Null Count  Dtype  \n",
      "---  ------            --------------  -----  \n",
      " 0   creditscore       10000 non-null  int64  \n",
      " 1   age               10000 non-null  int64  \n",
      " 2   tenure            10000 non-null  int64  \n",
      " 3   balance           10000 non-null  float64\n",
      " 4   num_of_products   10000 non-null  int64  \n",
      " 5   has_crcard        10000 non-null  int64  \n",
      " 6   is_active_member  10000 non-null  int64  \n",
      " 7   estimated_salary  10000 non-null  float64\n",
      " 8   exited            10000 non-null  int64  \n",
      " 9   male              10000 non-null  uint8  \n",
      " 10  germany           10000 non-null  uint8  \n",
      " 11  spain             10000 non-null  uint8  \n",
      "dtypes: float64(2), int64(7), uint8(3)\n",
      "memory usage: 732.5 KB\n"
     ]
    }
   ],
   "source": [
    "df_ohe.info()"
   ]
  },
  {
   "cell_type": "markdown",
   "id": "239877d4",
   "metadata": {},
   "source": [
    "### Split data set"
   ]
  },
  {
   "cell_type": "markdown",
   "id": "356849a7",
   "metadata": {},
   "source": [
    "We have prepared features. Now we will divide our samples into training, validation for the selection of hyperparameters and test, on which we will test our model. We will not touch the test sample to the end, we will work out the best model on it"
   ]
  },
  {
   "cell_type": "code",
   "execution_count": 46,
   "id": "749660a1",
   "metadata": {},
   "outputs": [],
   "source": [
    "def split_data(data, target_column):\n",
    "    return data.drop(columns=[target_column], axis=1), data[target_column]"
   ]
  },
  {
   "cell_type": "code",
   "execution_count": 47,
   "id": "fe2565f5",
   "metadata": {},
   "outputs": [],
   "source": [
    "features, target = split_data(df_ohe,'exited')"
   ]
  },
  {
   "cell_type": "markdown",
   "id": "a692e2d5",
   "metadata": {},
   "source": [
    "We get a validation sample of 20% and divide the remaining 80% again to obtain a test sample. We will conduct training on 60% of the data"
   ]
  },
  {
   "cell_type": "code",
   "execution_count": 48,
   "id": "610f0eae",
   "metadata": {},
   "outputs": [],
   "source": [
    "features_df, features_valid, target_df, target_valid = ( \n",
    "                                train_test_split(\n",
    "                                features, target, test_size=0.20, random_state=42)\n",
    ")"
   ]
  },
  {
   "cell_type": "code",
   "execution_count": 49,
   "id": "9b7b9cf0",
   "metadata": {},
   "outputs": [],
   "source": [
    "features_train, features_test, target_train, target_test = ( \n",
    "                                train_test_split(\n",
    "                                features_df, target_df, test_size=0.25, random_state=42)\n",
    ")"
   ]
  },
  {
   "cell_type": "code",
   "execution_count": 50,
   "id": "236bbe12",
   "metadata": {},
   "outputs": [
    {
     "name": "stdout",
     "output_type": "stream",
     "text": [
      "Objects of train: 6000\n",
      "Objects of valid: 2000\n",
      "Objects of test: 2000\n",
      "Sum of objects: 10000\n",
      "\n",
      "Objects of original set (check sum): 10000\n"
     ]
    }
   ],
   "source": [
    "print('Objects of train:', len(features_train))\n",
    "print('Objects of valid:', len(features_valid))\n",
    "print('Objects of test:', len(features_test))\n",
    "print('Sum of objects:', len(features_train) + len(features_test) + len(features_test))\n",
    "print()\n",
    "print('Objects of original set (check sum):', len(df_ohe))"
   ]
  },
  {
   "cell_type": "markdown",
   "id": "a3295823",
   "metadata": {},
   "source": [
    "### Scaling"
   ]
  },
  {
   "cell_type": "code",
   "execution_count": 51,
   "id": "f61a3ef9",
   "metadata": {},
   "outputs": [
    {
     "data": {
      "text/html": [
       "<div>\n",
       "<style scoped>\n",
       "    .dataframe tbody tr th:only-of-type {\n",
       "        vertical-align: middle;\n",
       "    }\n",
       "\n",
       "    .dataframe tbody tr th {\n",
       "        vertical-align: top;\n",
       "    }\n",
       "\n",
       "    .dataframe thead th {\n",
       "        text-align: right;\n",
       "    }\n",
       "</style>\n",
       "<table border=\"1\" class=\"dataframe\">\n",
       "  <thead>\n",
       "    <tr style=\"text-align: right;\">\n",
       "      <th></th>\n",
       "      <th>creditscore</th>\n",
       "      <th>age</th>\n",
       "      <th>tenure</th>\n",
       "      <th>balance</th>\n",
       "      <th>num_of_products</th>\n",
       "      <th>has_crcard</th>\n",
       "      <th>is_active_member</th>\n",
       "      <th>estimated_salary</th>\n",
       "      <th>male</th>\n",
       "      <th>germany</th>\n",
       "      <th>spain</th>\n",
       "    </tr>\n",
       "  </thead>\n",
       "  <tbody>\n",
       "    <tr>\n",
       "      <th>8588</th>\n",
       "      <td>712</td>\n",
       "      <td>29</td>\n",
       "      <td>7</td>\n",
       "      <td>77919.78</td>\n",
       "      <td>1</td>\n",
       "      <td>1</td>\n",
       "      <td>0</td>\n",
       "      <td>122547.58</td>\n",
       "      <td>0</td>\n",
       "      <td>0</td>\n",
       "      <td>1</td>\n",
       "    </tr>\n",
       "    <tr>\n",
       "      <th>3178</th>\n",
       "      <td>542</td>\n",
       "      <td>39</td>\n",
       "      <td>4</td>\n",
       "      <td>109949.39</td>\n",
       "      <td>2</td>\n",
       "      <td>1</td>\n",
       "      <td>1</td>\n",
       "      <td>41268.65</td>\n",
       "      <td>0</td>\n",
       "      <td>0</td>\n",
       "      <td>0</td>\n",
       "    </tr>\n",
       "    <tr>\n",
       "      <th>5200</th>\n",
       "      <td>512</td>\n",
       "      <td>42</td>\n",
       "      <td>9</td>\n",
       "      <td>93955.83</td>\n",
       "      <td>2</td>\n",
       "      <td>1</td>\n",
       "      <td>0</td>\n",
       "      <td>14828.54</td>\n",
       "      <td>1</td>\n",
       "      <td>1</td>\n",
       "      <td>0</td>\n",
       "    </tr>\n",
       "    <tr>\n",
       "      <th>8889</th>\n",
       "      <td>580</td>\n",
       "      <td>39</td>\n",
       "      <td>9</td>\n",
       "      <td>128362.59</td>\n",
       "      <td>1</td>\n",
       "      <td>1</td>\n",
       "      <td>0</td>\n",
       "      <td>86044.98</td>\n",
       "      <td>0</td>\n",
       "      <td>0</td>\n",
       "      <td>0</td>\n",
       "    </tr>\n",
       "    <tr>\n",
       "      <th>5789</th>\n",
       "      <td>689</td>\n",
       "      <td>55</td>\n",
       "      <td>1</td>\n",
       "      <td>76296.81</td>\n",
       "      <td>1</td>\n",
       "      <td>1</td>\n",
       "      <td>0</td>\n",
       "      <td>42364.75</td>\n",
       "      <td>0</td>\n",
       "      <td>1</td>\n",
       "      <td>0</td>\n",
       "    </tr>\n",
       "  </tbody>\n",
       "</table>\n",
       "</div>"
      ],
      "text/plain": [
       "      creditscore  age  tenure    balance  num_of_products  has_crcard  \\\n",
       "8588          712   29       7   77919.78                1           1   \n",
       "3178          542   39       4  109949.39                2           1   \n",
       "5200          512   42       9   93955.83                2           1   \n",
       "8889          580   39       9  128362.59                1           1   \n",
       "5789          689   55       1   76296.81                1           1   \n",
       "\n",
       "      is_active_member  estimated_salary  male  germany  spain  \n",
       "8588                 0         122547.58     0        0      1  \n",
       "3178                 1          41268.65     0        0      0  \n",
       "5200                 0          14828.54     1        1      0  \n",
       "8889                 0          86044.98     0        0      0  \n",
       "5789                 0          42364.75     0        1      0  "
      ]
     },
     "execution_count": 51,
     "metadata": {},
     "output_type": "execute_result"
    }
   ],
   "source": [
    "features_train.head()"
   ]
  },
  {
   "cell_type": "code",
   "execution_count": 52,
   "id": "0acd1d23",
   "metadata": {},
   "outputs": [
    {
     "data": {
      "text/html": [
       "<div>\n",
       "<style scoped>\n",
       "    .dataframe tbody tr th:only-of-type {\n",
       "        vertical-align: middle;\n",
       "    }\n",
       "\n",
       "    .dataframe tbody tr th {\n",
       "        vertical-align: top;\n",
       "    }\n",
       "\n",
       "    .dataframe thead th {\n",
       "        text-align: right;\n",
       "    }\n",
       "</style>\n",
       "<table border=\"1\" class=\"dataframe\">\n",
       "  <thead>\n",
       "    <tr style=\"text-align: right;\">\n",
       "      <th></th>\n",
       "      <th>creditscore</th>\n",
       "      <th>age</th>\n",
       "      <th>tenure</th>\n",
       "      <th>balance</th>\n",
       "      <th>num_of_products</th>\n",
       "      <th>has_crcard</th>\n",
       "      <th>is_active_member</th>\n",
       "      <th>estimated_salary</th>\n",
       "      <th>male</th>\n",
       "      <th>germany</th>\n",
       "      <th>spain</th>\n",
       "    </tr>\n",
       "  </thead>\n",
       "  <tbody>\n",
       "    <tr>\n",
       "      <th>8588</th>\n",
       "      <td>0.626553</td>\n",
       "      <td>-0.948125</td>\n",
       "      <td>7</td>\n",
       "      <td>0.026803</td>\n",
       "      <td>1</td>\n",
       "      <td>1</td>\n",
       "      <td>0</td>\n",
       "      <td>0.389943</td>\n",
       "      <td>0</td>\n",
       "      <td>0</td>\n",
       "      <td>1</td>\n",
       "    </tr>\n",
       "    <tr>\n",
       "      <th>3178</th>\n",
       "      <td>-1.143262</td>\n",
       "      <td>0.006684</td>\n",
       "      <td>4</td>\n",
       "      <td>0.538874</td>\n",
       "      <td>2</td>\n",
       "      <td>1</td>\n",
       "      <td>1</td>\n",
       "      <td>-1.026089</td>\n",
       "      <td>0</td>\n",
       "      <td>0</td>\n",
       "      <td>0</td>\n",
       "    </tr>\n",
       "    <tr>\n",
       "      <th>5200</th>\n",
       "      <td>-1.455583</td>\n",
       "      <td>0.293126</td>\n",
       "      <td>9</td>\n",
       "      <td>0.283178</td>\n",
       "      <td>2</td>\n",
       "      <td>1</td>\n",
       "      <td>0</td>\n",
       "      <td>-1.486725</td>\n",
       "      <td>1</td>\n",
       "      <td>1</td>\n",
       "      <td>0</td>\n",
       "    </tr>\n",
       "    <tr>\n",
       "      <th>8889</th>\n",
       "      <td>-0.747657</td>\n",
       "      <td>0.006684</td>\n",
       "      <td>9</td>\n",
       "      <td>0.833254</td>\n",
       "      <td>1</td>\n",
       "      <td>1</td>\n",
       "      <td>0</td>\n",
       "      <td>-0.246001</td>\n",
       "      <td>0</td>\n",
       "      <td>0</td>\n",
       "      <td>0</td>\n",
       "    </tr>\n",
       "    <tr>\n",
       "      <th>5789</th>\n",
       "      <td>0.387107</td>\n",
       "      <td>1.534377</td>\n",
       "      <td>1</td>\n",
       "      <td>0.000856</td>\n",
       "      <td>1</td>\n",
       "      <td>1</td>\n",
       "      <td>0</td>\n",
       "      <td>-1.006993</td>\n",
       "      <td>0</td>\n",
       "      <td>1</td>\n",
       "      <td>0</td>\n",
       "    </tr>\n",
       "  </tbody>\n",
       "</table>\n",
       "</div>"
      ],
      "text/plain": [
       "      creditscore       age  tenure   balance  num_of_products  has_crcard  \\\n",
       "8588     0.626553 -0.948125       7  0.026803                1           1   \n",
       "3178    -1.143262  0.006684       4  0.538874                2           1   \n",
       "5200    -1.455583  0.293126       9  0.283178                2           1   \n",
       "8889    -0.747657  0.006684       9  0.833254                1           1   \n",
       "5789     0.387107  1.534377       1  0.000856                1           1   \n",
       "\n",
       "      is_active_member  estimated_salary  male  germany  spain  \n",
       "8588                 0          0.389943     0        0      1  \n",
       "3178                 1         -1.026089     0        0      0  \n",
       "5200                 0         -1.486725     1        1      0  \n",
       "8889                 0         -0.246001     0        0      0  \n",
       "5789                 0         -1.006993     0        1      0  "
      ]
     },
     "execution_count": 52,
     "metadata": {},
     "output_type": "execute_result"
    }
   ],
   "source": [
    "numeric = ['creditscore', 'age', 'balance', 'estimated_salary']\n",
    "scaler = StandardScaler()\n",
    "scaler.fit(features_train[numeric])\n",
    "pd.options.mode.chained_assignment = None\n",
    "features_train[numeric] = scaler.transform(features_train[numeric])\n",
    "features_train.head()"
   ]
  },
  {
   "cell_type": "code",
   "execution_count": 53,
   "id": "ec21dfbe",
   "metadata": {},
   "outputs": [
    {
     "data": {
      "text/html": [
       "<div>\n",
       "<style scoped>\n",
       "    .dataframe tbody tr th:only-of-type {\n",
       "        vertical-align: middle;\n",
       "    }\n",
       "\n",
       "    .dataframe tbody tr th {\n",
       "        vertical-align: top;\n",
       "    }\n",
       "\n",
       "    .dataframe thead th {\n",
       "        text-align: right;\n",
       "    }\n",
       "</style>\n",
       "<table border=\"1\" class=\"dataframe\">\n",
       "  <thead>\n",
       "    <tr style=\"text-align: right;\">\n",
       "      <th></th>\n",
       "      <th>creditscore</th>\n",
       "      <th>age</th>\n",
       "      <th>tenure</th>\n",
       "      <th>balance</th>\n",
       "      <th>num_of_products</th>\n",
       "      <th>has_crcard</th>\n",
       "      <th>is_active_member</th>\n",
       "      <th>estimated_salary</th>\n",
       "      <th>male</th>\n",
       "      <th>germany</th>\n",
       "      <th>spain</th>\n",
       "    </tr>\n",
       "  </thead>\n",
       "  <tbody>\n",
       "    <tr>\n",
       "      <th>6252</th>\n",
       "      <td>-0.581086</td>\n",
       "      <td>-0.661682</td>\n",
       "      <td>3</td>\n",
       "      <td>0.327195</td>\n",
       "      <td>2</td>\n",
       "      <td>0</td>\n",
       "      <td>0</td>\n",
       "      <td>-1.017034</td>\n",
       "      <td>1</td>\n",
       "      <td>1</td>\n",
       "      <td>0</td>\n",
       "    </tr>\n",
       "    <tr>\n",
       "      <th>4684</th>\n",
       "      <td>-0.299998</td>\n",
       "      <td>0.388607</td>\n",
       "      <td>1</td>\n",
       "      <td>-1.218934</td>\n",
       "      <td>2</td>\n",
       "      <td>1</td>\n",
       "      <td>1</td>\n",
       "      <td>0.805136</td>\n",
       "      <td>1</td>\n",
       "      <td>0</td>\n",
       "      <td>0</td>\n",
       "    </tr>\n",
       "    <tr>\n",
       "      <th>1731</th>\n",
       "      <td>-0.529032</td>\n",
       "      <td>0.484088</td>\n",
       "      <td>4</td>\n",
       "      <td>-1.218934</td>\n",
       "      <td>2</td>\n",
       "      <td>1</td>\n",
       "      <td>0</td>\n",
       "      <td>-0.724818</td>\n",
       "      <td>0</td>\n",
       "      <td>0</td>\n",
       "      <td>1</td>\n",
       "    </tr>\n",
       "    <tr>\n",
       "      <th>4742</th>\n",
       "      <td>-1.518047</td>\n",
       "      <td>1.916301</td>\n",
       "      <td>8</td>\n",
       "      <td>0.686002</td>\n",
       "      <td>2</td>\n",
       "      <td>1</td>\n",
       "      <td>1</td>\n",
       "      <td>1.228495</td>\n",
       "      <td>1</td>\n",
       "      <td>1</td>\n",
       "      <td>0</td>\n",
       "    </tr>\n",
       "    <tr>\n",
       "      <th>4521</th>\n",
       "      <td>-0.955870</td>\n",
       "      <td>-1.139087</td>\n",
       "      <td>7</td>\n",
       "      <td>0.779430</td>\n",
       "      <td>1</td>\n",
       "      <td>1</td>\n",
       "      <td>1</td>\n",
       "      <td>0.252697</td>\n",
       "      <td>0</td>\n",
       "      <td>0</td>\n",
       "      <td>1</td>\n",
       "    </tr>\n",
       "  </tbody>\n",
       "</table>\n",
       "</div>"
      ],
      "text/plain": [
       "      creditscore       age  tenure   balance  num_of_products  has_crcard  \\\n",
       "6252    -0.581086 -0.661682       3  0.327195                2           0   \n",
       "4684    -0.299998  0.388607       1 -1.218934                2           1   \n",
       "1731    -0.529032  0.484088       4 -1.218934                2           1   \n",
       "4742    -1.518047  1.916301       8  0.686002                2           1   \n",
       "4521    -0.955870 -1.139087       7  0.779430                1           1   \n",
       "\n",
       "      is_active_member  estimated_salary  male  germany  spain  \n",
       "6252                 0         -1.017034     1        1      0  \n",
       "4684                 1          0.805136     1        0      0  \n",
       "1731                 0         -0.724818     0        0      1  \n",
       "4742                 1          1.228495     1        1      0  \n",
       "4521                 1          0.252697     0        0      1  "
      ]
     },
     "execution_count": 53,
     "metadata": {},
     "output_type": "execute_result"
    }
   ],
   "source": [
    "features_valid[numeric] = scaler.transform(features_valid[numeric])\n",
    "features_valid.head()"
   ]
  },
  {
   "cell_type": "code",
   "execution_count": 54,
   "id": "8da53bed",
   "metadata": {},
   "outputs": [
    {
     "data": {
      "text/html": [
       "<div>\n",
       "<style scoped>\n",
       "    .dataframe tbody tr th:only-of-type {\n",
       "        vertical-align: middle;\n",
       "    }\n",
       "\n",
       "    .dataframe tbody tr th {\n",
       "        vertical-align: top;\n",
       "    }\n",
       "\n",
       "    .dataframe thead th {\n",
       "        text-align: right;\n",
       "    }\n",
       "</style>\n",
       "<table border=\"1\" class=\"dataframe\">\n",
       "  <thead>\n",
       "    <tr style=\"text-align: right;\">\n",
       "      <th></th>\n",
       "      <th>creditscore</th>\n",
       "      <th>age</th>\n",
       "      <th>tenure</th>\n",
       "      <th>balance</th>\n",
       "      <th>num_of_products</th>\n",
       "      <th>has_crcard</th>\n",
       "      <th>is_active_member</th>\n",
       "      <th>estimated_salary</th>\n",
       "      <th>male</th>\n",
       "      <th>germany</th>\n",
       "      <th>spain</th>\n",
       "    </tr>\n",
       "  </thead>\n",
       "  <tbody>\n",
       "    <tr>\n",
       "      <th>3188</th>\n",
       "      <td>1.553103</td>\n",
       "      <td>-0.661682</td>\n",
       "      <td>4</td>\n",
       "      <td>-0.017150</td>\n",
       "      <td>1</td>\n",
       "      <td>1</td>\n",
       "      <td>1</td>\n",
       "      <td>-1.084803</td>\n",
       "      <td>0</td>\n",
       "      <td>0</td>\n",
       "      <td>0</td>\n",
       "    </tr>\n",
       "    <tr>\n",
       "      <th>8293</th>\n",
       "      <td>1.188729</td>\n",
       "      <td>-1.043606</td>\n",
       "      <td>4</td>\n",
       "      <td>0.231074</td>\n",
       "      <td>1</td>\n",
       "      <td>0</td>\n",
       "      <td>1</td>\n",
       "      <td>-1.368802</td>\n",
       "      <td>0</td>\n",
       "      <td>1</td>\n",
       "      <td>0</td>\n",
       "    </tr>\n",
       "    <tr>\n",
       "      <th>1710</th>\n",
       "      <td>1.834191</td>\n",
       "      <td>-1.043606</td>\n",
       "      <td>8</td>\n",
       "      <td>0.935642</td>\n",
       "      <td>1</td>\n",
       "      <td>1</td>\n",
       "      <td>0</td>\n",
       "      <td>-0.362538</td>\n",
       "      <td>1</td>\n",
       "      <td>0</td>\n",
       "      <td>1</td>\n",
       "    </tr>\n",
       "    <tr>\n",
       "      <th>7510</th>\n",
       "      <td>1.521871</td>\n",
       "      <td>-0.279759</td>\n",
       "      <td>1</td>\n",
       "      <td>-1.218934</td>\n",
       "      <td>2</td>\n",
       "      <td>1</td>\n",
       "      <td>1</td>\n",
       "      <td>1.025781</td>\n",
       "      <td>1</td>\n",
       "      <td>0</td>\n",
       "      <td>0</td>\n",
       "    </tr>\n",
       "    <tr>\n",
       "      <th>1461</th>\n",
       "      <td>-0.424926</td>\n",
       "      <td>-0.470721</td>\n",
       "      <td>4</td>\n",
       "      <td>-1.218934</td>\n",
       "      <td>2</td>\n",
       "      <td>1</td>\n",
       "      <td>0</td>\n",
       "      <td>1.233214</td>\n",
       "      <td>1</td>\n",
       "      <td>0</td>\n",
       "      <td>1</td>\n",
       "    </tr>\n",
       "  </tbody>\n",
       "</table>\n",
       "</div>"
      ],
      "text/plain": [
       "      creditscore       age  tenure   balance  num_of_products  has_crcard  \\\n",
       "3188     1.553103 -0.661682       4 -0.017150                1           1   \n",
       "8293     1.188729 -1.043606       4  0.231074                1           0   \n",
       "1710     1.834191 -1.043606       8  0.935642                1           1   \n",
       "7510     1.521871 -0.279759       1 -1.218934                2           1   \n",
       "1461    -0.424926 -0.470721       4 -1.218934                2           1   \n",
       "\n",
       "      is_active_member  estimated_salary  male  germany  spain  \n",
       "3188                 1         -1.084803     0        0      0  \n",
       "8293                 1         -1.368802     0        1      0  \n",
       "1710                 0         -0.362538     1        0      1  \n",
       "7510                 1          1.025781     1        0      0  \n",
       "1461                 0          1.233214     1        0      1  "
      ]
     },
     "execution_count": 54,
     "metadata": {},
     "output_type": "execute_result"
    }
   ],
   "source": [
    "features_test[numeric] = scaler.transform(features_test[numeric])\n",
    "features_test.head()"
   ]
  },
  {
   "cell_type": "markdown",
   "id": "867a5e75",
   "metadata": {},
   "source": [
    "### Decision Tree Classifier"
   ]
  },
  {
   "cell_type": "code",
   "execution_count": 55,
   "id": "0874f672",
   "metadata": {},
   "outputs": [],
   "source": [
    "from sklearn.tree import DecisionTreeClassifier"
   ]
  },
  {
   "cell_type": "code",
   "execution_count": 56,
   "id": "6508c181",
   "metadata": {},
   "outputs": [],
   "source": [
    "clf = DecisionTreeClassifier(random_state=42)"
   ]
  },
  {
   "cell_type": "code",
   "execution_count": 57,
   "id": "4c8d2aeb",
   "metadata": {},
   "outputs": [],
   "source": [
    "param_grid = {'max_features': ['auto', 'sqrt', 'log2'],\n",
    "              'ccp_alpha': [0.1, .01, .001],\n",
    "              'max_depth' : [5, 6, 7, 8, 9, 10, 11, 12],\n",
    "              'min_samples_split' : [10, 11, 12, 13, 14, 15],\n",
    "              'min_samples_leaf' : [1, 2, 3, 4],\n",
    "              'class_weight': ['balanced', None],\n",
    "              'criterion' :['gini', 'entropy']\n",
    "             }"
   ]
  },
  {
   "cell_type": "code",
   "execution_count": 58,
   "id": "6c0fd07e",
   "metadata": {},
   "outputs": [],
   "source": [
    "grid_search = GridSearchCV(clf, param_grid, cv=5, scoring='f1')"
   ]
  },
  {
   "cell_type": "code",
   "execution_count": 59,
   "id": "26b38e50",
   "metadata": {},
   "outputs": [
    {
     "data": {
      "text/plain": [
       "GridSearchCV(cv=5, estimator=DecisionTreeClassifier(random_state=42),\n",
       "             param_grid={'ccp_alpha': [0.1, 0.01, 0.001],\n",
       "                         'class_weight': ['balanced', None],\n",
       "                         'criterion': ['gini', 'entropy'],\n",
       "                         'max_depth': [5, 6, 7, 8, 9, 10, 11, 12],\n",
       "                         'max_features': ['auto', 'sqrt', 'log2'],\n",
       "                         'min_samples_leaf': [1, 2, 3, 4],\n",
       "                         'min_samples_split': [10, 11, 12, 13, 14, 15]},\n",
       "             scoring='f1')"
      ]
     },
     "execution_count": 59,
     "metadata": {},
     "output_type": "execute_result"
    }
   ],
   "source": [
    "grid_search.fit(features_train, target_train)"
   ]
  },
  {
   "cell_type": "code",
   "execution_count": 60,
   "id": "5dfab6f6",
   "metadata": {
    "scrolled": true
   },
   "outputs": [
    {
     "data": {
      "text/plain": [
       "{'ccp_alpha': 0.001,\n",
       " 'class_weight': 'balanced',\n",
       " 'criterion': 'gini',\n",
       " 'max_depth': 10,\n",
       " 'max_features': 'auto',\n",
       " 'min_samples_leaf': 2,\n",
       " 'min_samples_split': 10}"
      ]
     },
     "execution_count": 60,
     "metadata": {},
     "output_type": "execute_result"
    }
   ],
   "source": [
    "grid_search.best_params_"
   ]
  },
  {
   "cell_type": "code",
   "execution_count": 61,
   "id": "8a5aed94",
   "metadata": {},
   "outputs": [],
   "source": [
    "best_clf = grid_search.best_estimator_"
   ]
  },
  {
   "cell_type": "code",
   "execution_count": 62,
   "id": "f3aa6693",
   "metadata": {},
   "outputs": [
    {
     "data": {
      "text/plain": [
       "0.7565"
      ]
     },
     "execution_count": 62,
     "metadata": {},
     "output_type": "execute_result"
    }
   ],
   "source": [
    "best_clf.score(features_valid, target_valid)"
   ]
  },
  {
   "cell_type": "code",
   "execution_count": 63,
   "id": "3c2ce61d",
   "metadata": {},
   "outputs": [],
   "source": [
    "predicted_valid = best_clf.predict(features_valid)"
   ]
  },
  {
   "cell_type": "code",
   "execution_count": 64,
   "id": "fe8f1e57",
   "metadata": {},
   "outputs": [],
   "source": [
    "predicted_valid_prob = best_clf.predict_proba(features_valid)"
   ]
  },
  {
   "cell_type": "code",
   "execution_count": 65,
   "id": "b697a2f2",
   "metadata": {},
   "outputs": [
    {
     "data": {
      "text/plain": [
       "<AxesSubplot:>"
      ]
     },
     "execution_count": 65,
     "metadata": {},
     "output_type": "execute_result"
    },
    {
     "data": {
      "image/png": "[encoded data removed]",
      "text/plain": [
       "<Figure size 432x288 with 1 Axes>"
      ]
     },
     "metadata": {
      "needs_background": "light"
     },
     "output_type": "display_data"
    }
   ],
   "source": [
    "pd.Series(predicted_valid_prob[:,1]).hist(bins=20)"
   ]
  },
  {
   "cell_type": "code",
   "execution_count": 66,
   "id": "1f9b4141",
   "metadata": {},
   "outputs": [],
   "source": [
    "predicted_valid = np.where(predicted_valid_prob[:,1] > 0.65, 1, 0)"
   ]
  },
  {
   "cell_type": "code",
   "execution_count": 67,
   "id": "56fdba28",
   "metadata": {},
   "outputs": [],
   "source": [
    "from sklearn.metrics import f1_score, roc_auc_score, roc_curve, auc, precision_score, recall_score, confusion_matrix"
   ]
  },
  {
   "cell_type": "code",
   "execution_count": 68,
   "id": "6fb7bd89",
   "metadata": {},
   "outputs": [
    {
     "data": {
      "text/html": [
       "<div>\n",
       "<style scoped>\n",
       "    .dataframe tbody tr th:only-of-type {\n",
       "        vertical-align: middle;\n",
       "    }\n",
       "\n",
       "    .dataframe tbody tr th {\n",
       "        vertical-align: top;\n",
       "    }\n",
       "\n",
       "    .dataframe thead th {\n",
       "        text-align: right;\n",
       "    }\n",
       "</style>\n",
       "<table border=\"1\" class=\"dataframe\">\n",
       "  <thead>\n",
       "    <tr style=\"text-align: right;\">\n",
       "      <th></th>\n",
       "      <th>0</th>\n",
       "      <th>1</th>\n",
       "    </tr>\n",
       "  </thead>\n",
       "  <tbody>\n",
       "    <tr>\n",
       "      <th>0</th>\n",
       "      <td>1421</td>\n",
       "      <td>186</td>\n",
       "    </tr>\n",
       "    <tr>\n",
       "      <th>1</th>\n",
       "      <td>153</td>\n",
       "      <td>240</td>\n",
       "    </tr>\n",
       "  </tbody>\n",
       "</table>\n",
       "</div>"
      ],
      "text/plain": [
       "      0    1\n",
       "0  1421  186\n",
       "1   153  240"
      ]
     },
     "execution_count": 68,
     "metadata": {},
     "output_type": "execute_result"
    }
   ],
   "source": [
    "conf_mat = confusion_matrix(target_valid, predicted_valid)\n",
    "conf_mat = pd.DataFrame(conf_mat, index=best_clf.classes_, columns=best_clf.classes_)\n",
    "conf_mat"
   ]
  },
  {
   "cell_type": "code",
   "execution_count": 69,
   "id": "3deba3c5",
   "metadata": {},
   "outputs": [
    {
     "data": {
      "text/plain": [
       "0.5860805860805861"
      ]
     },
     "execution_count": 69,
     "metadata": {},
     "output_type": "execute_result"
    }
   ],
   "source": [
    "f1_score(target_valid, predicted_valid)"
   ]
  },
  {
   "cell_type": "code",
   "execution_count": 70,
   "id": "7f43bc81",
   "metadata": {},
   "outputs": [
    {
     "data": {
      "text/plain": [
       "0.5633802816901409"
      ]
     },
     "execution_count": 70,
     "metadata": {},
     "output_type": "execute_result"
    }
   ],
   "source": [
    "precision_score(target_valid, predicted_valid)"
   ]
  },
  {
   "cell_type": "code",
   "execution_count": 71,
   "id": "873d6bdf",
   "metadata": {},
   "outputs": [
    {
     "data": {
      "text/plain": [
       "0.6106870229007634"
      ]
     },
     "execution_count": 71,
     "metadata": {},
     "output_type": "execute_result"
    }
   ],
   "source": [
    "recall_score(target_valid, predicted_valid)"
   ]
  },
  {
   "cell_type": "code",
   "execution_count": 72,
   "id": "8e2a0d92",
   "metadata": {},
   "outputs": [
    {
     "data": {
      "text/plain": [
       "0.7474717006227526"
      ]
     },
     "execution_count": 72,
     "metadata": {},
     "output_type": "execute_result"
    }
   ],
   "source": [
    "roc_auc_score(target_valid, predicted_valid)"
   ]
  },
  {
   "cell_type": "code",
   "execution_count": 73,
   "id": "f51ccf4e",
   "metadata": {},
   "outputs": [],
   "source": [
    "fpr, tpr, threshold = roc_curve(target_valid, predicted_valid_prob[:,1])\n",
    "roc_auc = auc(fpr, tpr)"
   ]
  },
  {
   "cell_type": "code",
   "execution_count": 74,
   "id": "9fe779ab",
   "metadata": {},
   "outputs": [
    {
     "data": {
      "image/png": "[encoded data removed]",
      "text/plain": [
       "<Figure size 432x288 with 1 Axes>"
      ]
     },
     "metadata": {
      "needs_background": "light"
     },
     "output_type": "display_data"
    }
   ],
   "source": [
    "import matplotlib.pyplot as plt\n",
    "plt.title('Receiver Operating Characteristic')\n",
    "plt.plot(fpr, tpr, 'b', label = 'AUC = %0.2f' % roc_auc)\n",
    "plt.legend(loc = 'lower right')\n",
    "plt.plot([0, 1], [0, 1],'r--')\n",
    "plt.xlim([0, 1])\n",
    "plt.ylim([0, 1])\n",
    "plt.ylabel('True Positive Rate')\n",
    "plt.xlabel('False Positive Rate')\n",
    "plt.show()"
   ]
  },
  {
   "cell_type": "code",
   "execution_count": null,
   "id": "b9ba74ce",
   "metadata": {},
   "outputs": [],
   "source": []
  },
  {
   "cell_type": "markdown",
   "id": "19ff7cd6",
   "metadata": {},
   "source": [
    "### Random Forest Classifier"
   ]
  },
  {
   "cell_type": "code",
   "execution_count": 75,
   "id": "3f4f00fc",
   "metadata": {},
   "outputs": [],
   "source": [
    "from sklearn.ensemble import RandomForestClassifier"
   ]
  },
  {
   "cell_type": "code",
   "execution_count": 76,
   "id": "57e05546",
   "metadata": {},
   "outputs": [],
   "source": [
    "clf = RandomForestClassifier(random_state=42)"
   ]
  },
  {
   "cell_type": "code",
   "execution_count": 77,
   "id": "3068e92f",
   "metadata": {},
   "outputs": [],
   "source": [
    "param_grid = {'n_estimators': [100],\n",
    "              'max_features': ['auto'],\n",
    "              'ccp_alpha': [0.1, .01, .001],\n",
    "              'max_depth' : [12, 15, 20],\n",
    "              'min_samples_split' : [2, 3],\n",
    "              'min_samples_leaf' : [3, 4, 5],\n",
    "              'class_weight': ['balanced'],\n",
    "              'criterion' :['gini', 'entropy']\n",
    "             }"
   ]
  },
  {
   "cell_type": "code",
   "execution_count": 78,
   "id": "a1a2518f",
   "metadata": {},
   "outputs": [],
   "source": [
    "grid_search = GridSearchCV(clf, param_grid, cv=5, scoring='f1')"
   ]
  },
  {
   "cell_type": "code",
   "execution_count": 79,
   "id": "68bd4522",
   "metadata": {},
   "outputs": [
    {
     "data": {
      "text/plain": [
       "GridSearchCV(cv=5, estimator=RandomForestClassifier(random_state=42),\n",
       "             param_grid={'ccp_alpha': [0.1, 0.01, 0.001],\n",
       "                         'class_weight': ['balanced'],\n",
       "                         'criterion': ['gini', 'entropy'],\n",
       "                         'max_depth': [12, 15, 20], 'max_features': ['auto'],\n",
       "                         'min_samples_leaf': [3, 4, 5],\n",
       "                         'min_samples_split': [2, 3], 'n_estimators': [100]},\n",
       "             scoring='f1')"
      ]
     },
     "execution_count": 79,
     "metadata": {},
     "output_type": "execute_result"
    }
   ],
   "source": [
    "grid_search.fit(features_train, target_train)"
   ]
  },
  {
   "cell_type": "code",
   "execution_count": 80,
   "id": "875240b8",
   "metadata": {},
   "outputs": [
    {
     "data": {
      "text/plain": [
       "{'ccp_alpha': 0.001,\n",
       " 'class_weight': 'balanced',\n",
       " 'criterion': 'entropy',\n",
       " 'max_depth': 12,\n",
       " 'max_features': 'auto',\n",
       " 'min_samples_leaf': 4,\n",
       " 'min_samples_split': 2,\n",
       " 'n_estimators': 100}"
      ]
     },
     "execution_count": 80,
     "metadata": {},
     "output_type": "execute_result"
    }
   ],
   "source": [
    "grid_search.best_params_"
   ]
  },
  {
   "cell_type": "code",
   "execution_count": 81,
   "id": "a2246f90",
   "metadata": {},
   "outputs": [],
   "source": [
    "grid_search_dict = {'ccp_alpha': 0.001,\n",
    " 'class_weight': 'balanced',\n",
    " 'criterion': 'entropy',\n",
    " 'max_depth': 12,\n",
    " 'max_features': 'auto',\n",
    " 'min_samples_leaf': 4,\n",
    " 'min_samples_split': 2,\n",
    " 'n_estimators': 100}"
   ]
  },
  {
   "cell_type": "code",
   "execution_count": 82,
   "id": "d4314531",
   "metadata": {},
   "outputs": [
    {
     "data": {
      "text/plain": [
       "{'ccp_alpha': 0.001,\n",
       " 'class_weight': 'balanced',\n",
       " 'criterion': 'entropy',\n",
       " 'max_depth': 12,\n",
       " 'max_features': 'auto',\n",
       " 'min_samples_leaf': 4,\n",
       " 'min_samples_split': 2,\n",
       " 'n_estimators': 100}"
      ]
     },
     "execution_count": 82,
     "metadata": {},
     "output_type": "execute_result"
    }
   ],
   "source": [
    "grid_search_dict"
   ]
  },
  {
   "cell_type": "code",
   "execution_count": 83,
   "id": "31847316",
   "metadata": {},
   "outputs": [],
   "source": [
    "best_clf = grid_search.best_estimator_"
   ]
  },
  {
   "cell_type": "code",
   "execution_count": 84,
   "id": "638ee41b",
   "metadata": {},
   "outputs": [
    {
     "data": {
      "text/plain": [
       "0.8986666666666666"
      ]
     },
     "execution_count": 84,
     "metadata": {},
     "output_type": "execute_result"
    }
   ],
   "source": [
    "best_clf.score(features_train, target_train)"
   ]
  },
  {
   "cell_type": "code",
   "execution_count": 85,
   "id": "434d56ea",
   "metadata": {},
   "outputs": [
    {
     "data": {
      "text/plain": [
       "0.837"
      ]
     },
     "execution_count": 85,
     "metadata": {},
     "output_type": "execute_result"
    }
   ],
   "source": [
    "best_clf.score(features_valid, target_valid)"
   ]
  },
  {
   "cell_type": "code",
   "execution_count": 86,
   "id": "0df5acfc",
   "metadata": {},
   "outputs": [],
   "source": [
    "predicted_valid_prob = best_clf.predict_proba(features_valid)"
   ]
  },
  {
   "cell_type": "code",
   "execution_count": 92,
   "id": "428217dc",
   "metadata": {},
   "outputs": [
    {
     "data": {
      "text/plain": [
       "<AxesSubplot:>"
      ]
     },
     "execution_count": 92,
     "metadata": {},
     "output_type": "execute_result"
    },
    {
     "data": {
      "image/png": "[encoded data removed]",
      "text/plain": [
       "<Figure size 432x288 with 1 Axes>"
      ]
     },
     "metadata": {
      "needs_background": "light"
     },
     "output_type": "display_data"
    }
   ],
   "source": [
    "pd.Series(predicted_valid_prob[:,1]).hist(bins=20)"
   ]
  },
  {
   "cell_type": "code",
   "execution_count": 88,
   "id": "054005c1",
   "metadata": {},
   "outputs": [],
   "source": [
    "probabilities_one_valid = predicted_valid_prob[:,1]"
   ]
  },
  {
   "cell_type": "code",
   "execution_count": 89,
   "id": "9d2a91aa",
   "metadata": {},
   "outputs": [
    {
     "name": "stdout",
     "output_type": "stream",
     "text": [
      "Threshold = 0.00 | Precision = 0.197, Recall = 1.000 | F1-score = 0.328\n",
      "Threshold = 0.05 | Precision = 0.202, Recall = 0.997 | F1-score = 0.336\n",
      "Threshold = 0.10 | Precision = 0.225, Recall = 0.987 | F1-score = 0.367\n",
      "Threshold = 0.15 | Precision = 0.261, Recall = 0.977 | F1-score = 0.412\n",
      "Threshold = 0.20 | Precision = 0.296, Recall = 0.936 | F1-score = 0.450\n",
      "Threshold = 0.25 | Precision = 0.348, Recall = 0.896 | F1-score = 0.501\n",
      "Threshold = 0.30 | Precision = 0.386, Recall = 0.845 | F1-score = 0.530\n",
      "Threshold = 0.35 | Precision = 0.433, Recall = 0.819 | F1-score = 0.566\n",
      "Threshold = 0.40 | Precision = 0.472, Recall = 0.784 | F1-score = 0.589\n",
      "Threshold = 0.45 | Precision = 0.528, Recall = 0.738 | F1-score = 0.616\n",
      "Threshold = 0.50 | Precision = 0.572, Recall = 0.677 | F1-score = 0.620\n",
      "Threshold = 0.55 | Precision = 0.611, Recall = 0.628 | F1-score = 0.620\n",
      "Threshold = 0.60 | Precision = 0.670, Recall = 0.573 | F1-score = 0.617\n",
      "Threshold = 0.65 | Precision = 0.726, Recall = 0.511 | F1-score = 0.600\n",
      "Threshold = 0.70 | Precision = 0.755, Recall = 0.448 | F1-score = 0.562\n",
      "Threshold = 0.75 | Precision = 0.809, Recall = 0.387 | F1-score = 0.523\n",
      "Threshold = 0.80 | Precision = 0.873, Recall = 0.298 | F1-score = 0.444\n",
      "Threshold = 0.85 | Precision = 0.915, Recall = 0.191 | F1-score = 0.316\n",
      "Threshold = 0.90 | Precision = 0.953, Recall = 0.104 | F1-score = 0.188\n"
     ]
    }
   ],
   "source": [
    "for threshold in np.arange(0, 0.95, 0.05):\n",
    "    predicted_valid = probabilities_one_valid > threshold\n",
    "    precision = precision_score(target_valid, predicted_valid)\n",
    "    recall = recall_score(target_valid, predicted_valid)\n",
    "    f1 = f1_score(target_valid, predicted_valid)\n",
    "    print(\"Threshold = {:.2f} | Precision = {:.3f}, Recall = {:.3f} | F1-score = {:.3f}\".format(\n",
    "        threshold, precision, recall, f1))"
   ]
  },
  {
   "cell_type": "code",
   "execution_count": 90,
   "id": "4cb394c8",
   "metadata": {},
   "outputs": [],
   "source": [
    "fpr, tpr, threshold = roc_curve(target_valid, probabilities_one_valid)\n",
    "roc_auc = auc(fpr, tpr)"
   ]
  },
  {
   "cell_type": "code",
   "execution_count": 91,
   "id": "c38882cc",
   "metadata": {},
   "outputs": [
    {
     "data": {
      "image/png": "[encoded data removed]",
      "text/plain": [
       "<Figure size 432x288 with 1 Axes>"
      ]
     },
     "metadata": {
      "needs_background": "light"
     },
     "output_type": "display_data"
    }
   ],
   "source": [
    "plt.title('Receiver Operating Characteristic')\n",
    "plt.plot(fpr, tpr, 'b', label = 'AUC = %0.2f' % roc_auc)\n",
    "plt.legend(loc = 'lower right')\n",
    "plt.plot([0, 1], [0, 1],'r--')\n",
    "plt.xlim([0, 1])\n",
    "plt.ylim([0, 1])\n",
    "plt.ylabel('True Positive Rate')\n",
    "plt.xlabel('False Positive Rate')\n",
    "plt.show()"
   ]
  },
  {
   "cell_type": "markdown",
   "id": "2013a46a",
   "metadata": {},
   "source": [
    "### Testing Models"
   ]
  },
  {
   "cell_type": "code",
   "execution_count": 93,
   "id": "97e494c7",
   "metadata": {},
   "outputs": [],
   "source": [
    "predictions_test_prob = best_clf.predict_proba(features_test)"
   ]
  },
  {
   "cell_type": "code",
   "execution_count": 94,
   "id": "e7bf7423",
   "metadata": {},
   "outputs": [],
   "source": [
    "predictions_test = np.where(predictions_test_prob[:,1] > 0.55, 1, 0)"
   ]
  },
  {
   "cell_type": "code",
   "execution_count": 95,
   "id": "aa12bb5d",
   "metadata": {},
   "outputs": [
    {
     "data": {
      "text/plain": [
       "0.6339066339066338"
      ]
     },
     "execution_count": 95,
     "metadata": {},
     "output_type": "execute_result"
    }
   ],
   "source": [
    "f1_score(target_test, predictions_test)"
   ]
  },
  {
   "cell_type": "code",
   "execution_count": 96,
   "id": "3ecd4379",
   "metadata": {},
   "outputs": [
    {
     "data": {
      "text/plain": [
       "0.6433915211970075"
      ]
     },
     "execution_count": 96,
     "metadata": {},
     "output_type": "execute_result"
    }
   ],
   "source": [
    "precision_score(target_test, predictions_test)"
   ]
  },
  {
   "cell_type": "code",
   "execution_count": 97,
   "id": "756873b1",
   "metadata": {},
   "outputs": [
    {
     "data": {
      "text/plain": [
       "0.6246973365617433"
      ]
     },
     "execution_count": 97,
     "metadata": {},
     "output_type": "execute_result"
    }
   ],
   "source": [
    "recall_score(target_test, predictions_test)"
   ]
  },
  {
   "cell_type": "code",
   "execution_count": 98,
   "id": "7b098b3f",
   "metadata": {},
   "outputs": [
    {
     "data": {
      "text/plain": [
       "array([0.09537163, 0.30793826, 0.05146426, 0.12212922, 0.19897034,\n",
       "       0.01132626, 0.04747332, 0.09201307, 0.02166116, 0.04196326,\n",
       "       0.00968922])"
      ]
     },
     "execution_count": 98,
     "metadata": {},
     "output_type": "execute_result"
    }
   ],
   "source": [
    "best_clf.feature_importances_"
   ]
  },
  {
   "cell_type": "code",
   "execution_count": 99,
   "id": "bb60f4de",
   "metadata": {},
   "outputs": [
    {
     "data": {
      "text/plain": [
       "Index(['creditscore', 'age', 'tenure', 'balance', 'num_of_products',\n",
       "       'has_crcard', 'is_active_member', 'estimated_salary', 'male', 'germany',\n",
       "       'spain'],\n",
       "      dtype='object')"
      ]
     },
     "execution_count": 99,
     "metadata": {},
     "output_type": "execute_result"
    }
   ],
   "source": [
    "features_test.columns"
   ]
  },
  {
   "cell_type": "code",
   "execution_count": 105,
   "id": "8cf6830f",
   "metadata": {},
   "outputs": [
    {
     "data": {
      "text/html": [
       "<div>\n",
       "<style scoped>\n",
       "    .dataframe tbody tr th:only-of-type {\n",
       "        vertical-align: middle;\n",
       "    }\n",
       "\n",
       "    .dataframe tbody tr th {\n",
       "        vertical-align: top;\n",
       "    }\n",
       "\n",
       "    .dataframe thead th {\n",
       "        text-align: right;\n",
       "    }\n",
       "</style>\n",
       "<table border=\"1\" class=\"dataframe\">\n",
       "  <thead>\n",
       "    <tr style=\"text-align: right;\">\n",
       "      <th></th>\n",
       "      <th>name</th>\n",
       "      <th>fi</th>\n",
       "    </tr>\n",
       "  </thead>\n",
       "  <tbody>\n",
       "    <tr>\n",
       "      <th>0</th>\n",
       "      <td>age</td>\n",
       "      <td>0.307938</td>\n",
       "    </tr>\n",
       "    <tr>\n",
       "      <th>1</th>\n",
       "      <td>num_of_products</td>\n",
       "      <td>0.198970</td>\n",
       "    </tr>\n",
       "    <tr>\n",
       "      <th>2</th>\n",
       "      <td>balance</td>\n",
       "      <td>0.122129</td>\n",
       "    </tr>\n",
       "    <tr>\n",
       "      <th>3</th>\n",
       "      <td>creditscore</td>\n",
       "      <td>0.095372</td>\n",
       "    </tr>\n",
       "    <tr>\n",
       "      <th>4</th>\n",
       "      <td>estimated_salary</td>\n",
       "      <td>0.092013</td>\n",
       "    </tr>\n",
       "    <tr>\n",
       "      <th>5</th>\n",
       "      <td>tenure</td>\n",
       "      <td>0.051464</td>\n",
       "    </tr>\n",
       "    <tr>\n",
       "      <th>6</th>\n",
       "      <td>is_active_member</td>\n",
       "      <td>0.047473</td>\n",
       "    </tr>\n",
       "    <tr>\n",
       "      <th>7</th>\n",
       "      <td>germany</td>\n",
       "      <td>0.041963</td>\n",
       "    </tr>\n",
       "    <tr>\n",
       "      <th>8</th>\n",
       "      <td>male</td>\n",
       "      <td>0.021661</td>\n",
       "    </tr>\n",
       "    <tr>\n",
       "      <th>9</th>\n",
       "      <td>has_crcard</td>\n",
       "      <td>0.011326</td>\n",
       "    </tr>\n",
       "    <tr>\n",
       "      <th>10</th>\n",
       "      <td>spain</td>\n",
       "      <td>0.009689</td>\n",
       "    </tr>\n",
       "  </tbody>\n",
       "</table>\n",
       "</div>"
      ],
      "text/plain": [
       "                name        fi\n",
       "0                age  0.307938\n",
       "1    num_of_products  0.198970\n",
       "2            balance  0.122129\n",
       "3        creditscore  0.095372\n",
       "4   estimated_salary  0.092013\n",
       "5             tenure  0.051464\n",
       "6   is_active_member  0.047473\n",
       "7            germany  0.041963\n",
       "8               male  0.021661\n",
       "9         has_crcard  0.011326\n",
       "10             spain  0.009689"
      ]
     },
     "execution_count": 105,
     "metadata": {},
     "output_type": "execute_result"
    }
   ],
   "source": [
    "fi = pd.DataFrame({'name':features_test.columns,'fi':best_clf.feature_importances_})\n",
    "fi.sort_values('fi',ascending=False).reset_index(drop=True)"
   ]
  },
  {
   "cell_type": "code",
   "execution_count": null,
   "id": "7191d2a1",
   "metadata": {},
   "outputs": [],
   "source": []
  }
 ],
 "metadata": {
  "kernelspec": {
   "display_name": "Python 3",
   "language": "python",
   "name": "python3"
  },
  "language_info": {
   "codemirror_mode": {
    "name": "ipython",
    "version": 3
   },
   "file_extension": ".py",
   "mimetype": "text/x-python",
   "name": "python",
   "nbconvert_exporter": "python",
   "pygments_lexer": "ipython3",
   "version": "3.8.8"
  }
 },
 "nbformat": 4,
 "nbformat_minor": 5
}
